{
 "cells": [
  {
   "cell_type": "markdown",
   "id": "35d24184-39d2-4c5a-9c02-da6160c930a8",
   "metadata": {},
   "source": [
    "# Importing the necessary libraries"
   ]
  },
  {
   "cell_type": "code",
   "execution_count": 4,
   "id": "6c4d5589-1740-4717-a405-565e83e73480",
   "metadata": {},
   "outputs": [],
   "source": [
    "import pandas as pd\n",
    "import numpy as np\n",
    "import joblib\n",
    "from keras.models import load_model\n",
    "from datetime import datetime,date\n",
    "from dateutil.relativedelta import relativedelta"
   ]
  },
  {
   "cell_type": "markdown",
   "id": "7bce59d7-ae5d-48cf-965f-a2cf18594cad",
   "metadata": {},
   "source": [
    "# Reading and preprocessing of dataset"
   ]
  },
  {
   "cell_type": "code",
   "execution_count": 5,
   "id": "2ca97291-8031-4dcc-b336-89452e99bf07",
   "metadata": {},
   "outputs": [],
   "source": [
    "today_date = date.today().strftime(\"%Y-%m-%d\")"
   ]
  },
  {
   "cell_type": "code",
   "execution_count": 6,
   "id": "c82e64b8-1935-4505-a3e4-1b2ab3d24f12",
   "metadata": {},
   "outputs": [],
   "source": [
    "dataset = pd.read_csv(f\"D:\\\\Projects\\\\Jupyter_Lab\\\\Stock_market_predictor\\\\stock_prices_dataset\\\\Stocks_train_{today_date}.csv\")"
   ]
  },
  {
   "cell_type": "code",
   "execution_count": 7,
   "id": "cd44e5b9-73e9-4638-ad75-c6159cb351c0",
   "metadata": {},
   "outputs": [],
   "source": [
    "dataset_test = dataset.pivot(index='Date',columns='Stock',values='Close').reset_index()"
   ]
  },
  {
   "cell_type": "code",
   "execution_count": 8,
   "id": "0176dbe2-dc13-44e8-87f7-b78ac33743f3",
   "metadata": {},
   "outputs": [],
   "source": [
    "# Feature Scaling\n",
    "num_cols = ['ASHOKLEY','CANBK','LICI','ONGC','SBIN']\n",
    "sc = joblib.load('D:\\\\Projects\\\\Jupyter_Lab\\\\Stock_market_predictor\\\\Stock_predictor_BSE_2025\\\\model_files\\\\min_max_scaler.joblib')\n",
    "test_data = sc.transform(dataset_test[num_cols])"
   ]
  },
  {
   "cell_type": "code",
   "execution_count": 13,
   "id": "12ca2aa2-6b33-4257-943e-e869e6f18ad3",
   "metadata": {},
   "outputs": [
    {
     "data": {
      "text/plain": [
       "(60, 6)"
      ]
     },
     "execution_count": 13,
     "metadata": {},
     "output_type": "execute_result"
    }
   ],
   "source": [
    "dataset_test[len(dataset_test)-60:len(dataset_test)]"
   ]
  },
  {
   "cell_type": "code",
   "execution_count": 18,
   "id": "9822458e-5d8b-46ba-81ef-23ad5f2562fe",
   "metadata": {},
   "outputs": [],
   "source": [
    "# Creating a data structure with 60 time steps and 1 output\n",
    "X_test = test_data[len(test_data)-60:len(test_data),:]"
   ]
  },
  {
   "cell_type": "code",
   "execution_count": 22,
   "id": "2294578f-7618-48c0-b9a0-ba38ee8b3069",
   "metadata": {},
   "outputs": [],
   "source": [
    "X_test = X_test.reshape(1,60,-1)"
   ]
  },
  {
   "cell_type": "markdown",
   "id": "a15815fe-0e77-4037-909c-4b9eb10c3cb7",
   "metadata": {},
   "source": [
    "# Load the model and predict"
   ]
  },
  {
   "cell_type": "code",
   "execution_count": 23,
   "id": "14c42884-ae2b-4e0f-a9d4-b53d568401da",
   "metadata": {},
   "outputs": [],
   "source": [
    "regressor_load = load_model('D:\\\\Projects\\\\Jupyter_Lab\\\\Stock_market_predictor\\\\Stock_predictor_BSE_2025\\\\model_files\\\\stock_predictor.keras')"
   ]
  },
  {
   "cell_type": "code",
   "execution_count": 32,
   "id": "a9e6dab4-953e-46b6-a736-da6d0178d336",
   "metadata": {},
   "outputs": [
    {
     "name": "stdout",
     "output_type": "stream",
     "text": [
      "\u001b[1m1/1\u001b[0m \u001b[32m━━━━━━━━━━━━━━━━━━━━\u001b[0m\u001b[37m\u001b[0m \u001b[1m0s\u001b[0m 53ms/step\n"
     ]
    }
   ],
   "source": [
    "today_preds = regressor_load.predict(X_test)\n",
    "today_preds = sc.inverse_transform(today_preds)"
   ]
  },
  {
   "cell_type": "code",
   "execution_count": 33,
   "id": "1c02ac91-4e59-4a33-8485-d223f633ed75",
   "metadata": {},
   "outputs": [],
   "source": [
    "today_preds_pd = pd.DataFrame(today_preds,columns=num_cols)\n",
    "today_preds_pd['Date'] = today_date\n",
    "today_preds_pd = today_preds_pd[['Date']+num_cols]"
   ]
  },
  {
   "cell_type": "code",
   "execution_count": 34,
   "id": "0cf83bc6-5aea-4719-b575-1f62c156cf75",
   "metadata": {},
   "outputs": [
    {
     "data": {
      "text/html": [
       "<div>\n",
       "<style scoped>\n",
       "    .dataframe tbody tr th:only-of-type {\n",
       "        vertical-align: middle;\n",
       "    }\n",
       "\n",
       "    .dataframe tbody tr th {\n",
       "        vertical-align: top;\n",
       "    }\n",
       "\n",
       "    .dataframe thead th {\n",
       "        text-align: right;\n",
       "    }\n",
       "</style>\n",
       "<table border=\"1\" class=\"dataframe\">\n",
       "  <thead>\n",
       "    <tr style=\"text-align: right;\">\n",
       "      <th></th>\n",
       "      <th>Date</th>\n",
       "      <th>ASHOKLEY</th>\n",
       "      <th>CANBK</th>\n",
       "      <th>LICI</th>\n",
       "      <th>ONGC</th>\n",
       "      <th>SBIN</th>\n",
       "    </tr>\n",
       "  </thead>\n",
       "  <tbody>\n",
       "    <tr>\n",
       "      <th>0</th>\n",
       "      <td>2025-06-02</td>\n",
       "      <td>229.852448</td>\n",
       "      <td>118.996811</td>\n",
       "      <td>933.962524</td>\n",
       "      <td>255.697906</td>\n",
       "      <td>790.096008</td>\n",
       "    </tr>\n",
       "  </tbody>\n",
       "</table>\n",
       "</div>"
      ],
      "text/plain": [
       "         Date    ASHOKLEY       CANBK        LICI        ONGC        SBIN\n",
       "0  2025-06-02  229.852448  118.996811  933.962524  255.697906  790.096008"
      ]
     },
     "execution_count": 34,
     "metadata": {},
     "output_type": "execute_result"
    }
   ],
   "source": [
    "today_preds_pd"
   ]
  },
  {
   "cell_type": "code",
   "execution_count": 35,
   "id": "9892489d-8de3-4db2-9e1e-bfe1b7559e9b",
   "metadata": {},
   "outputs": [],
   "source": [
    "!git config http.postBuffer 524288000"
   ]
  },
  {
   "cell_type": "code",
   "execution_count": null,
   "id": "ae846ef1-dd31-4f1a-83c6-1d33af2cd1a1",
   "metadata": {},
   "outputs": [],
   "source": []
  }
 ],
 "metadata": {
  "kernelspec": {
   "display_name": "Python 3 (ipykernel)",
   "language": "python",
   "name": "python3"
  },
  "language_info": {
   "codemirror_mode": {
    "name": "ipython",
    "version": 3
   },
   "file_extension": ".py",
   "mimetype": "text/x-python",
   "name": "python",
   "nbconvert_exporter": "python",
   "pygments_lexer": "ipython3",
   "version": "3.12.10"
  }
 },
 "nbformat": 4,
 "nbformat_minor": 5
}
