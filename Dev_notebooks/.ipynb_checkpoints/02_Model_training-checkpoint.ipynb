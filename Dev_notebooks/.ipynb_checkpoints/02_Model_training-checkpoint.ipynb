{
 "cells": [
  {
   "cell_type": "markdown",
   "id": "ffcc97a3-b58d-4f9d-8019-7198bc7060dd",
   "metadata": {},
   "source": [
    "# Importing the necessary libraries"
   ]
  },
  {
   "cell_type": "code",
   "execution_count": 26,
   "id": "5a917729-5ba2-4664-8833-72e8d851d9a2",
   "metadata": {},
   "outputs": [],
   "source": [
    "import pandas as pd\n",
    "import numpy as np\n",
    "from sklearn.preprocessing import MinMaxScaler\n",
    "from keras.models import Sequential\n",
    "from keras.layers import Dense\n",
    "from keras.layers import GRU\n",
    "from keras.layers import Dropout\n",
    "from keras.callbacks import EarlyStopping\n",
    "from keras.models import load_model\n",
    "import matplotlib.pyplot as plt\n",
    "import joblib"
   ]
  },
  {
   "cell_type": "markdown",
   "id": "7b74e2b4-e19c-41ef-85be-865e45faf2d1",
   "metadata": {},
   "source": [
    "# Reading and preprocessing of dataset"
   ]
  },
  {
   "cell_type": "code",
   "execution_count": null,
   "id": "a9a44588-c65c-472b-83a6-35886c6fdc9a",
   "metadata": {},
   "outputs": [],
   "source": [
    "num_cols = ['ASHOKLEY','CANBK','LICI','ONGC','SBIN']"
   ]
  },
  {
   "cell_type": "code",
   "execution_count": 2,
   "id": "3f9d31d9-7826-477c-897f-b5d09e628178",
   "metadata": {},
   "outputs": [],
   "source": [
    "dataset = pd.read_csv(\"D:\\\\Projects\\\\Jupyter_Lab\\\\Stock_market_predictor\\\\stock_prices_dataset\\\\Stocks_train.csv\")"
   ]
  },
  {
   "cell_type": "code",
   "execution_count": 23,
   "id": "e70cdfa4-f7fb-45ba-94f4-3c8b814dd155",
   "metadata": {},
   "outputs": [
    {
     "data": {
      "text/html": [
       "<div>\n",
       "<style scoped>\n",
       "    .dataframe tbody tr th:only-of-type {\n",
       "        vertical-align: middle;\n",
       "    }\n",
       "\n",
       "    .dataframe tbody tr th {\n",
       "        vertical-align: top;\n",
       "    }\n",
       "\n",
       "    .dataframe thead th {\n",
       "        text-align: right;\n",
       "    }\n",
       "</style>\n",
       "<table border=\"1\" class=\"dataframe\">\n",
       "  <thead>\n",
       "    <tr style=\"text-align: right;\">\n",
       "      <th></th>\n",
       "      <th>Date</th>\n",
       "      <th>Stock</th>\n",
       "      <th>Close</th>\n",
       "    </tr>\n",
       "  </thead>\n",
       "  <tbody>\n",
       "    <tr>\n",
       "      <th>0</th>\n",
       "      <td>2025-05-30</td>\n",
       "      <td>ASHOKLEY</td>\n",
       "      <td>236.00</td>\n",
       "    </tr>\n",
       "    <tr>\n",
       "      <th>1</th>\n",
       "      <td>2025-05-29</td>\n",
       "      <td>ASHOKLEY</td>\n",
       "      <td>240.65</td>\n",
       "    </tr>\n",
       "    <tr>\n",
       "      <th>2</th>\n",
       "      <td>2025-05-28</td>\n",
       "      <td>ASHOKLEY</td>\n",
       "      <td>238.50</td>\n",
       "    </tr>\n",
       "    <tr>\n",
       "      <th>3</th>\n",
       "      <td>2025-05-27</td>\n",
       "      <td>ASHOKLEY</td>\n",
       "      <td>239.55</td>\n",
       "    </tr>\n",
       "    <tr>\n",
       "      <th>4</th>\n",
       "      <td>2025-05-26</td>\n",
       "      <td>ASHOKLEY</td>\n",
       "      <td>239.85</td>\n",
       "    </tr>\n",
       "    <tr>\n",
       "      <th>...</th>\n",
       "      <td>...</td>\n",
       "      <td>...</td>\n",
       "      <td>...</td>\n",
       "    </tr>\n",
       "    <tr>\n",
       "      <th>3680</th>\n",
       "      <td>2022-06-07</td>\n",
       "      <td>SBIN</td>\n",
       "      <td>463.35</td>\n",
       "    </tr>\n",
       "    <tr>\n",
       "      <th>3681</th>\n",
       "      <td>2022-06-06</td>\n",
       "      <td>SBIN</td>\n",
       "      <td>463.55</td>\n",
       "    </tr>\n",
       "    <tr>\n",
       "      <th>3682</th>\n",
       "      <td>2022-06-03</td>\n",
       "      <td>SBIN</td>\n",
       "      <td>464.30</td>\n",
       "    </tr>\n",
       "    <tr>\n",
       "      <th>3683</th>\n",
       "      <td>2022-06-02</td>\n",
       "      <td>SBIN</td>\n",
       "      <td>469.75</td>\n",
       "    </tr>\n",
       "    <tr>\n",
       "      <th>3684</th>\n",
       "      <td>2022-06-01</td>\n",
       "      <td>SBIN</td>\n",
       "      <td>468.20</td>\n",
       "    </tr>\n",
       "  </tbody>\n",
       "</table>\n",
       "<p>3685 rows × 3 columns</p>\n",
       "</div>"
      ],
      "text/plain": [
       "            Date     Stock   Close\n",
       "0     2025-05-30  ASHOKLEY  236.00\n",
       "1     2025-05-29  ASHOKLEY  240.65\n",
       "2     2025-05-28  ASHOKLEY  238.50\n",
       "3     2025-05-27  ASHOKLEY  239.55\n",
       "4     2025-05-26  ASHOKLEY  239.85\n",
       "...          ...       ...     ...\n",
       "3680  2022-06-07      SBIN  463.35\n",
       "3681  2022-06-06      SBIN  463.55\n",
       "3682  2022-06-03      SBIN  464.30\n",
       "3683  2022-06-02      SBIN  469.75\n",
       "3684  2022-06-01      SBIN  468.20\n",
       "\n",
       "[3685 rows x 3 columns]"
      ]
     },
     "metadata": {},
     "output_type": "display_data"
    }
   ],
   "source": [
    "display(dataset)"
   ]
  },
  {
   "cell_type": "code",
   "execution_count": 98,
   "id": "0ec8ebbb-6ede-4fe0-94a1-e7f027becc4c",
   "metadata": {},
   "outputs": [
    {
     "data": {
      "text/html": [
       "<div>\n",
       "<style scoped>\n",
       "    .dataframe tbody tr th:only-of-type {\n",
       "        vertical-align: middle;\n",
       "    }\n",
       "\n",
       "    .dataframe tbody tr th {\n",
       "        vertical-align: top;\n",
       "    }\n",
       "\n",
       "    .dataframe thead th {\n",
       "        text-align: right;\n",
       "    }\n",
       "</style>\n",
       "<table border=\"1\" class=\"dataframe\">\n",
       "  <thead>\n",
       "    <tr style=\"text-align: right;\">\n",
       "      <th>Stock</th>\n",
       "      <th>Date</th>\n",
       "      <th>ASHOKLEY</th>\n",
       "      <th>CANBK</th>\n",
       "      <th>LICI</th>\n",
       "      <th>ONGC</th>\n",
       "      <th>SBIN</th>\n",
       "    </tr>\n",
       "  </thead>\n",
       "  <tbody>\n",
       "    <tr>\n",
       "      <th>0</th>\n",
       "      <td>2022-06-01</td>\n",
       "      <td>140.00</td>\n",
       "      <td>208.65</td>\n",
       "      <td>810.55</td>\n",
       "      <td>149.70</td>\n",
       "      <td>468.20</td>\n",
       "    </tr>\n",
       "    <tr>\n",
       "      <th>1</th>\n",
       "      <td>2022-06-02</td>\n",
       "      <td>143.45</td>\n",
       "      <td>213.50</td>\n",
       "      <td>805.85</td>\n",
       "      <td>152.50</td>\n",
       "      <td>469.75</td>\n",
       "    </tr>\n",
       "    <tr>\n",
       "      <th>2</th>\n",
       "      <td>2022-06-03</td>\n",
       "      <td>139.60</td>\n",
       "      <td>211.10</td>\n",
       "      <td>800.25</td>\n",
       "      <td>151.55</td>\n",
       "      <td>464.30</td>\n",
       "    </tr>\n",
       "    <tr>\n",
       "      <th>3</th>\n",
       "      <td>2022-06-06</td>\n",
       "      <td>138.35</td>\n",
       "      <td>210.30</td>\n",
       "      <td>777.40</td>\n",
       "      <td>154.00</td>\n",
       "      <td>463.55</td>\n",
       "    </tr>\n",
       "    <tr>\n",
       "      <th>4</th>\n",
       "      <td>2022-06-07</td>\n",
       "      <td>139.60</td>\n",
       "      <td>209.10</td>\n",
       "      <td>752.90</td>\n",
       "      <td>161.85</td>\n",
       "      <td>463.35</td>\n",
       "    </tr>\n",
       "    <tr>\n",
       "      <th>...</th>\n",
       "      <td>...</td>\n",
       "      <td>...</td>\n",
       "      <td>...</td>\n",
       "      <td>...</td>\n",
       "      <td>...</td>\n",
       "      <td>...</td>\n",
       "    </tr>\n",
       "    <tr>\n",
       "      <th>732</th>\n",
       "      <td>2025-05-26</td>\n",
       "      <td>239.85</td>\n",
       "      <td>107.45</td>\n",
       "      <td>870.00</td>\n",
       "      <td>245.80</td>\n",
       "      <td>794.35</td>\n",
       "    </tr>\n",
       "    <tr>\n",
       "      <th>733</th>\n",
       "      <td>2025-05-27</td>\n",
       "      <td>239.55</td>\n",
       "      <td>108.44</td>\n",
       "      <td>871.05</td>\n",
       "      <td>244.55</td>\n",
       "      <td>793.80</td>\n",
       "    </tr>\n",
       "    <tr>\n",
       "      <th>734</th>\n",
       "      <td>2025-05-28</td>\n",
       "      <td>238.50</td>\n",
       "      <td>110.88</td>\n",
       "      <td>942.55</td>\n",
       "      <td>242.70</td>\n",
       "      <td>796.45</td>\n",
       "    </tr>\n",
       "    <tr>\n",
       "      <th>735</th>\n",
       "      <td>2025-05-29</td>\n",
       "      <td>240.65</td>\n",
       "      <td>110.81</td>\n",
       "      <td>944.40</td>\n",
       "      <td>243.35</td>\n",
       "      <td>797.30</td>\n",
       "    </tr>\n",
       "    <tr>\n",
       "      <th>736</th>\n",
       "      <td>2025-05-30</td>\n",
       "      <td>236.00</td>\n",
       "      <td>114.82</td>\n",
       "      <td>953.55</td>\n",
       "      <td>239.45</td>\n",
       "      <td>812.40</td>\n",
       "    </tr>\n",
       "  </tbody>\n",
       "</table>\n",
       "<p>737 rows × 6 columns</p>\n",
       "</div>"
      ],
      "text/plain": [
       "Stock        Date  ASHOKLEY   CANBK    LICI    ONGC    SBIN\n",
       "0      2022-06-01    140.00  208.65  810.55  149.70  468.20\n",
       "1      2022-06-02    143.45  213.50  805.85  152.50  469.75\n",
       "2      2022-06-03    139.60  211.10  800.25  151.55  464.30\n",
       "3      2022-06-06    138.35  210.30  777.40  154.00  463.55\n",
       "4      2022-06-07    139.60  209.10  752.90  161.85  463.35\n",
       "..            ...       ...     ...     ...     ...     ...\n",
       "732    2025-05-26    239.85  107.45  870.00  245.80  794.35\n",
       "733    2025-05-27    239.55  108.44  871.05  244.55  793.80\n",
       "734    2025-05-28    238.50  110.88  942.55  242.70  796.45\n",
       "735    2025-05-29    240.65  110.81  944.40  243.35  797.30\n",
       "736    2025-05-30    236.00  114.82  953.55  239.45  812.40\n",
       "\n",
       "[737 rows x 6 columns]"
      ]
     },
     "metadata": {},
     "output_type": "display_data"
    }
   ],
   "source": [
    "# Pivot with stock column\n",
    "dataset_train = dataset.pivot(index='Date',columns='Stock',values='Close').reset_index()\n",
    "display(dataset_train)"
   ]
  },
  {
   "cell_type": "code",
   "execution_count": 99,
   "id": "dd29f89a-22b8-48c7-969f-7d2978f83d9d",
   "metadata": {},
   "outputs": [],
   "source": [
    "for col in num_cols:\n",
    "    dataset_train[f'{col}_trend'] = dataset_train[col].diff(periods=-1)\n",
    "dataset_train = dataset_train.fillna(0)"
   ]
  },
  {
   "cell_type": "code",
   "execution_count": 100,
   "id": "b79bbf67-9a8f-49f5-b3dc-17d7331726d1",
   "metadata": {},
   "outputs": [],
   "source": [
    "for col in num_cols:\n",
    "    dataset_train[f'{col}_trend'] = dataset_train[f'{col}_trend'].shift(-1).rolling(5,min_periods=1).mean().shift(-4)\n",
    "dataset_train = dataset_train.fillna(0)"
   ]
  },
  {
   "cell_type": "code",
   "execution_count": 101,
   "id": "7141aa98-5b41-4566-ae7c-d5578d55511c",
   "metadata": {},
   "outputs": [
    {
     "data": {
      "text/html": [
       "<div>\n",
       "<style scoped>\n",
       "    .dataframe tbody tr th:only-of-type {\n",
       "        vertical-align: middle;\n",
       "    }\n",
       "\n",
       "    .dataframe tbody tr th {\n",
       "        vertical-align: top;\n",
       "    }\n",
       "\n",
       "    .dataframe thead th {\n",
       "        text-align: right;\n",
       "    }\n",
       "</style>\n",
       "<table border=\"1\" class=\"dataframe\">\n",
       "  <thead>\n",
       "    <tr style=\"text-align: right;\">\n",
       "      <th>Stock</th>\n",
       "      <th>Date</th>\n",
       "      <th>ASHOKLEY</th>\n",
       "      <th>CANBK</th>\n",
       "      <th>LICI</th>\n",
       "      <th>ONGC</th>\n",
       "      <th>SBIN</th>\n",
       "      <th>ASHOKLEY_trend</th>\n",
       "      <th>CANBK_trend</th>\n",
       "      <th>LICI_trend</th>\n",
       "      <th>ONGC_trend</th>\n",
       "      <th>SBIN_trend</th>\n",
       "    </tr>\n",
       "  </thead>\n",
       "  <tbody>\n",
       "    <tr>\n",
       "      <th>0</th>\n",
       "      <td>2022-06-01</td>\n",
       "      <td>140.00</td>\n",
       "      <td>208.65</td>\n",
       "      <td>810.55</td>\n",
       "      <td>149.70</td>\n",
       "      <td>468.20</td>\n",
       "      <td>1.1200</td>\n",
       "      <td>1.210</td>\n",
       "      <td>16.780</td>\n",
       "      <td>-2.620</td>\n",
       "      <td>0.58</td>\n",
       "    </tr>\n",
       "    <tr>\n",
       "      <th>1</th>\n",
       "      <td>2022-06-02</td>\n",
       "      <td>143.45</td>\n",
       "      <td>213.50</td>\n",
       "      <td>805.85</td>\n",
       "      <td>152.50</td>\n",
       "      <td>469.75</td>\n",
       "      <td>0.3600</td>\n",
       "      <td>0.610</td>\n",
       "      <td>18.110</td>\n",
       "      <td>-2.610</td>\n",
       "      <td>0.50</td>\n",
       "    </tr>\n",
       "    <tr>\n",
       "      <th>2</th>\n",
       "      <td>2022-06-03</td>\n",
       "      <td>139.60</td>\n",
       "      <td>211.10</td>\n",
       "      <td>800.25</td>\n",
       "      <td>151.55</td>\n",
       "      <td>464.30</td>\n",
       "      <td>1.3000</td>\n",
       "      <td>2.620</td>\n",
       "      <td>21.840</td>\n",
       "      <td>-1.100</td>\n",
       "      <td>3.53</td>\n",
       "    </tr>\n",
       "    <tr>\n",
       "      <th>3</th>\n",
       "      <td>2022-06-06</td>\n",
       "      <td>138.35</td>\n",
       "      <td>210.30</td>\n",
       "      <td>777.40</td>\n",
       "      <td>154.00</td>\n",
       "      <td>463.55</td>\n",
       "      <td>1.2100</td>\n",
       "      <td>2.390</td>\n",
       "      <td>15.740</td>\n",
       "      <td>1.180</td>\n",
       "      <td>3.11</td>\n",
       "    </tr>\n",
       "    <tr>\n",
       "      <th>4</th>\n",
       "      <td>2022-06-07</td>\n",
       "      <td>139.60</td>\n",
       "      <td>209.10</td>\n",
       "      <td>752.90</td>\n",
       "      <td>161.85</td>\n",
       "      <td>463.35</td>\n",
       "      <td>0.7900</td>\n",
       "      <td>4.530</td>\n",
       "      <td>9.510</td>\n",
       "      <td>2.390</td>\n",
       "      <td>3.91</td>\n",
       "    </tr>\n",
       "    <tr>\n",
       "      <th>...</th>\n",
       "      <td>...</td>\n",
       "      <td>...</td>\n",
       "      <td>...</td>\n",
       "      <td>...</td>\n",
       "      <td>...</td>\n",
       "      <td>...</td>\n",
       "      <td>...</td>\n",
       "      <td>...</td>\n",
       "      <td>...</td>\n",
       "      <td>...</td>\n",
       "      <td>...</td>\n",
       "    </tr>\n",
       "    <tr>\n",
       "      <th>732</th>\n",
       "      <td>2025-05-26</td>\n",
       "      <td>239.85</td>\n",
       "      <td>107.45</td>\n",
       "      <td>870.00</td>\n",
       "      <td>245.80</td>\n",
       "      <td>794.35</td>\n",
       "      <td>0.8875</td>\n",
       "      <td>-1.595</td>\n",
       "      <td>-20.625</td>\n",
       "      <td>1.275</td>\n",
       "      <td>-4.65</td>\n",
       "    </tr>\n",
       "    <tr>\n",
       "      <th>733</th>\n",
       "      <td>2025-05-27</td>\n",
       "      <td>239.55</td>\n",
       "      <td>108.44</td>\n",
       "      <td>871.05</td>\n",
       "      <td>244.55</td>\n",
       "      <td>793.80</td>\n",
       "      <td>0.0000</td>\n",
       "      <td>0.000</td>\n",
       "      <td>0.000</td>\n",
       "      <td>0.000</td>\n",
       "      <td>0.00</td>\n",
       "    </tr>\n",
       "    <tr>\n",
       "      <th>734</th>\n",
       "      <td>2025-05-28</td>\n",
       "      <td>238.50</td>\n",
       "      <td>110.88</td>\n",
       "      <td>942.55</td>\n",
       "      <td>242.70</td>\n",
       "      <td>796.45</td>\n",
       "      <td>0.0000</td>\n",
       "      <td>0.000</td>\n",
       "      <td>0.000</td>\n",
       "      <td>0.000</td>\n",
       "      <td>0.00</td>\n",
       "    </tr>\n",
       "    <tr>\n",
       "      <th>735</th>\n",
       "      <td>2025-05-29</td>\n",
       "      <td>240.65</td>\n",
       "      <td>110.81</td>\n",
       "      <td>944.40</td>\n",
       "      <td>243.35</td>\n",
       "      <td>797.30</td>\n",
       "      <td>0.0000</td>\n",
       "      <td>0.000</td>\n",
       "      <td>0.000</td>\n",
       "      <td>0.000</td>\n",
       "      <td>0.00</td>\n",
       "    </tr>\n",
       "    <tr>\n",
       "      <th>736</th>\n",
       "      <td>2025-05-30</td>\n",
       "      <td>236.00</td>\n",
       "      <td>114.82</td>\n",
       "      <td>953.55</td>\n",
       "      <td>239.45</td>\n",
       "      <td>812.40</td>\n",
       "      <td>0.0000</td>\n",
       "      <td>0.000</td>\n",
       "      <td>0.000</td>\n",
       "      <td>0.000</td>\n",
       "      <td>0.00</td>\n",
       "    </tr>\n",
       "  </tbody>\n",
       "</table>\n",
       "<p>737 rows × 11 columns</p>\n",
       "</div>"
      ],
      "text/plain": [
       "Stock        Date  ASHOKLEY   CANBK    LICI    ONGC    SBIN  ASHOKLEY_trend  \\\n",
       "0      2022-06-01    140.00  208.65  810.55  149.70  468.20          1.1200   \n",
       "1      2022-06-02    143.45  213.50  805.85  152.50  469.75          0.3600   \n",
       "2      2022-06-03    139.60  211.10  800.25  151.55  464.30          1.3000   \n",
       "3      2022-06-06    138.35  210.30  777.40  154.00  463.55          1.2100   \n",
       "4      2022-06-07    139.60  209.10  752.90  161.85  463.35          0.7900   \n",
       "..            ...       ...     ...     ...     ...     ...             ...   \n",
       "732    2025-05-26    239.85  107.45  870.00  245.80  794.35          0.8875   \n",
       "733    2025-05-27    239.55  108.44  871.05  244.55  793.80          0.0000   \n",
       "734    2025-05-28    238.50  110.88  942.55  242.70  796.45          0.0000   \n",
       "735    2025-05-29    240.65  110.81  944.40  243.35  797.30          0.0000   \n",
       "736    2025-05-30    236.00  114.82  953.55  239.45  812.40          0.0000   \n",
       "\n",
       "Stock  CANBK_trend  LICI_trend  ONGC_trend  SBIN_trend  \n",
       "0            1.210      16.780      -2.620        0.58  \n",
       "1            0.610      18.110      -2.610        0.50  \n",
       "2            2.620      21.840      -1.100        3.53  \n",
       "3            2.390      15.740       1.180        3.11  \n",
       "4            4.530       9.510       2.390        3.91  \n",
       "..             ...         ...         ...         ...  \n",
       "732         -1.595     -20.625       1.275       -4.65  \n",
       "733          0.000       0.000       0.000        0.00  \n",
       "734          0.000       0.000       0.000        0.00  \n",
       "735          0.000       0.000       0.000        0.00  \n",
       "736          0.000       0.000       0.000        0.00  \n",
       "\n",
       "[737 rows x 11 columns]"
      ]
     },
     "execution_count": 101,
     "metadata": {},
     "output_type": "execute_result"
    }
   ],
   "source": [
    "dataset_train"
   ]
  },
  {
   "cell_type": "code",
   "execution_count": 102,
   "id": "45795255-392f-4ace-8fb3-1cedcf2b4699",
   "metadata": {
    "scrolled": true
   },
   "outputs": [],
   "source": [
    "# Feature Scaling\n",
    "sc = MinMaxScaler(feature_range=(0,1))\n",
    "train_data = sc.fit_transform(dataset_train[num_cols+[f'{col}_trend' for col in num_cols]])"
   ]
  },
  {
   "cell_type": "code",
   "execution_count": 103,
   "id": "d28c93ce-1541-49d5-b224-a71b88480e94",
   "metadata": {},
   "outputs": [
    {
     "data": {
      "text/plain": [
       "array([[0.07674858, 0.23314899, 0.42471396, ..., 0.88140302, 0.32021348,\n",
       "        0.5170227 ],\n",
       "       [0.10283554, 0.24200113, 0.41754386, ..., 0.90449731, 0.32088059,\n",
       "        0.51435247],\n",
       "       [0.07372401, 0.23762069, 0.40900076, ..., 0.9692655 , 0.42161441,\n",
       "        0.61548732],\n",
       "       ...,\n",
       "       [0.82155009, 0.05470076, 0.62608696, ..., 0.59003299, 0.49499666,\n",
       "        0.49766355],\n",
       "       [0.83780718, 0.054573  , 0.62890923, ..., 0.59003299, 0.49499666,\n",
       "        0.49766355],\n",
       "       [0.8026465 , 0.06189199, 0.64286804, ..., 0.59003299, 0.49499666,\n",
       "        0.49766355]])"
      ]
     },
     "execution_count": 103,
     "metadata": {},
     "output_type": "execute_result"
    }
   ],
   "source": [
    "train_data"
   ]
  },
  {
   "cell_type": "code",
   "execution_count": 104,
   "id": "611cbae3-ef44-4a2b-bf11-40559b0a9851",
   "metadata": {},
   "outputs": [],
   "source": [
    "# Creating a data structure with 60 time steps and 1 output\n",
    "X_train = []\n",
    "y_train = []\n",
    "for i in range(60,len(train_data)):\n",
    "    X_train.append(train_data[i-60:i,:])\n",
    "    y_train.append(train_data[i,:])\n",
    "X_train, y_train = np.array(X_train), np.array(y_train)"
   ]
  },
  {
   "cell_type": "code",
   "execution_count": 105,
   "id": "2b470f91-d32b-4adc-9b81-6775b3d836d8",
   "metadata": {},
   "outputs": [
    {
     "name": "stdout",
     "output_type": "stream",
     "text": [
      "Shape of training dataset (677, 60, 10)\n"
     ]
    }
   ],
   "source": [
    "print(\"Shape of training dataset\",X_train.shape)"
   ]
  },
  {
   "cell_type": "code",
   "execution_count": 106,
   "id": "ca183b77-d28b-4405-99b5-10f11e2a88d9",
   "metadata": {},
   "outputs": [
    {
     "data": {
      "text/plain": [
       "['D:\\\\Projects\\\\Jupyter_Lab\\\\Stock_market_predictor\\\\Stock_predictor_BSE_2025\\\\model_files\\\\min_max_scaler.joblib']"
      ]
     },
     "execution_count": 106,
     "metadata": {},
     "output_type": "execute_result"
    }
   ],
   "source": [
    "# Saving min max scaler file\n",
    "joblib.dump(sc,'D:\\\\Projects\\\\Jupyter_Lab\\\\Stock_market_predictor\\\\Stock_predictor_BSE_2025\\\\model_files\\\\min_max_scaler.joblib')"
   ]
  },
  {
   "cell_type": "markdown",
   "id": "9d05d862-f581-42a7-8399-be80368f3307",
   "metadata": {},
   "source": [
    "# Training of GRU model"
   ]
  },
  {
   "cell_type": "code",
   "execution_count": 116,
   "id": "3fd679a8-4b51-4c7c-adf8-6dcd2b8f1566",
   "metadata": {},
   "outputs": [],
   "source": [
    "regressor = Sequential()\n",
    "\n",
    "regressor.add(GRU(units=500,activation='relu',return_sequences=True,input_shape=(X_train.shape[1],X_train.shape[2])))\n",
    "regressor.add(Dropout(0.05))\n",
    "\n",
    "\"\"\"regressor.add(GRU(units=118,activation='relu', return_sequences=True))\n",
    "regressor.add(Dropout(0.2))\n",
    "\n",
    "regressor.add(GRU(units=118,activation='relu', return_sequences=True))\n",
    "regressor.add(Dropout(0.2))\n",
    "\n",
    "regressor.add(GRU(units=118,activation='relu', return_sequences=True))\n",
    "regressor.add(Dropout(0.2))\"\"\"\n",
    "\n",
    "regressor.add(GRU(units=500,activation='relu'))\n",
    "regressor.add(Dropout(0.05))\n",
    "\n",
    "regressor.add(Dense(units=X_train.shape[2]))\n",
    "\n",
    "regressor.compile(optimizer='adam',loss='mean_squared_error',metrics=['accuracy'])"
   ]
  },
  {
   "cell_type": "code",
   "execution_count": 117,
   "id": "f7f703ac-7155-4067-8e03-71213a88cb84",
   "metadata": {},
   "outputs": [
    {
     "data": {
      "text/html": [
       "<pre style=\"white-space:pre;overflow-x:auto;line-height:normal;font-family:Menlo,'DejaVu Sans Mono',consolas,'Courier New',monospace\"><span style=\"font-weight: bold\">Model: \"sequential_8\"</span>\n",
       "</pre>\n"
      ],
      "text/plain": [
       "\u001b[1mModel: \"sequential_8\"\u001b[0m\n"
      ]
     },
     "metadata": {},
     "output_type": "display_data"
    },
    {
     "data": {
      "text/html": [
       "<pre style=\"white-space:pre;overflow-x:auto;line-height:normal;font-family:Menlo,'DejaVu Sans Mono',consolas,'Courier New',monospace\">┏━━━━━━━━━━━━━━━━━━━━━━━━━━━━━━━━━━━━━━┳━━━━━━━━━━━━━━━━━━━━━━━━━━━━━┳━━━━━━━━━━━━━━━━━┓\n",
       "┃<span style=\"font-weight: bold\"> Layer (type)                         </span>┃<span style=\"font-weight: bold\"> Output Shape                </span>┃<span style=\"font-weight: bold\">         Param # </span>┃\n",
       "┡━━━━━━━━━━━━━━━━━━━━━━━━━━━━━━━━━━━━━━╇━━━━━━━━━━━━━━━━━━━━━━━━━━━━━╇━━━━━━━━━━━━━━━━━┩\n",
       "│ gru_16 (<span style=\"color: #0087ff; text-decoration-color: #0087ff\">GRU</span>)                         │ (<span style=\"color: #00d7ff; text-decoration-color: #00d7ff\">None</span>, <span style=\"color: #00af00; text-decoration-color: #00af00\">60</span>, <span style=\"color: #00af00; text-decoration-color: #00af00\">500</span>)             │         <span style=\"color: #00af00; text-decoration-color: #00af00\">768,000</span> │\n",
       "├──────────────────────────────────────┼─────────────────────────────┼─────────────────┤\n",
       "│ dropout_16 (<span style=\"color: #0087ff; text-decoration-color: #0087ff\">Dropout</span>)                 │ (<span style=\"color: #00d7ff; text-decoration-color: #00d7ff\">None</span>, <span style=\"color: #00af00; text-decoration-color: #00af00\">60</span>, <span style=\"color: #00af00; text-decoration-color: #00af00\">500</span>)             │               <span style=\"color: #00af00; text-decoration-color: #00af00\">0</span> │\n",
       "├──────────────────────────────────────┼─────────────────────────────┼─────────────────┤\n",
       "│ gru_17 (<span style=\"color: #0087ff; text-decoration-color: #0087ff\">GRU</span>)                         │ (<span style=\"color: #00d7ff; text-decoration-color: #00d7ff\">None</span>, <span style=\"color: #00af00; text-decoration-color: #00af00\">500</span>)                 │       <span style=\"color: #00af00; text-decoration-color: #00af00\">1,503,000</span> │\n",
       "├──────────────────────────────────────┼─────────────────────────────┼─────────────────┤\n",
       "│ dropout_17 (<span style=\"color: #0087ff; text-decoration-color: #0087ff\">Dropout</span>)                 │ (<span style=\"color: #00d7ff; text-decoration-color: #00d7ff\">None</span>, <span style=\"color: #00af00; text-decoration-color: #00af00\">500</span>)                 │               <span style=\"color: #00af00; text-decoration-color: #00af00\">0</span> │\n",
       "├──────────────────────────────────────┼─────────────────────────────┼─────────────────┤\n",
       "│ dense_8 (<span style=\"color: #0087ff; text-decoration-color: #0087ff\">Dense</span>)                      │ (<span style=\"color: #00d7ff; text-decoration-color: #00d7ff\">None</span>, <span style=\"color: #00af00; text-decoration-color: #00af00\">10</span>)                  │           <span style=\"color: #00af00; text-decoration-color: #00af00\">5,010</span> │\n",
       "└──────────────────────────────────────┴─────────────────────────────┴─────────────────┘\n",
       "</pre>\n"
      ],
      "text/plain": [
       "┏━━━━━━━━━━━━━━━━━━━━━━━━━━━━━━━━━━━━━━┳━━━━━━━━━━━━━━━━━━━━━━━━━━━━━┳━━━━━━━━━━━━━━━━━┓\n",
       "┃\u001b[1m \u001b[0m\u001b[1mLayer (type)                        \u001b[0m\u001b[1m \u001b[0m┃\u001b[1m \u001b[0m\u001b[1mOutput Shape               \u001b[0m\u001b[1m \u001b[0m┃\u001b[1m \u001b[0m\u001b[1m        Param #\u001b[0m\u001b[1m \u001b[0m┃\n",
       "┡━━━━━━━━━━━━━━━━━━━━━━━━━━━━━━━━━━━━━━╇━━━━━━━━━━━━━━━━━━━━━━━━━━━━━╇━━━━━━━━━━━━━━━━━┩\n",
       "│ gru_16 (\u001b[38;5;33mGRU\u001b[0m)                         │ (\u001b[38;5;45mNone\u001b[0m, \u001b[38;5;34m60\u001b[0m, \u001b[38;5;34m500\u001b[0m)             │         \u001b[38;5;34m768,000\u001b[0m │\n",
       "├──────────────────────────────────────┼─────────────────────────────┼─────────────────┤\n",
       "│ dropout_16 (\u001b[38;5;33mDropout\u001b[0m)                 │ (\u001b[38;5;45mNone\u001b[0m, \u001b[38;5;34m60\u001b[0m, \u001b[38;5;34m500\u001b[0m)             │               \u001b[38;5;34m0\u001b[0m │\n",
       "├──────────────────────────────────────┼─────────────────────────────┼─────────────────┤\n",
       "│ gru_17 (\u001b[38;5;33mGRU\u001b[0m)                         │ (\u001b[38;5;45mNone\u001b[0m, \u001b[38;5;34m500\u001b[0m)                 │       \u001b[38;5;34m1,503,000\u001b[0m │\n",
       "├──────────────────────────────────────┼─────────────────────────────┼─────────────────┤\n",
       "│ dropout_17 (\u001b[38;5;33mDropout\u001b[0m)                 │ (\u001b[38;5;45mNone\u001b[0m, \u001b[38;5;34m500\u001b[0m)                 │               \u001b[38;5;34m0\u001b[0m │\n",
       "├──────────────────────────────────────┼─────────────────────────────┼─────────────────┤\n",
       "│ dense_8 (\u001b[38;5;33mDense\u001b[0m)                      │ (\u001b[38;5;45mNone\u001b[0m, \u001b[38;5;34m10\u001b[0m)                  │           \u001b[38;5;34m5,010\u001b[0m │\n",
       "└──────────────────────────────────────┴─────────────────────────────┴─────────────────┘\n"
      ]
     },
     "metadata": {},
     "output_type": "display_data"
    },
    {
     "data": {
      "text/html": [
       "<pre style=\"white-space:pre;overflow-x:auto;line-height:normal;font-family:Menlo,'DejaVu Sans Mono',consolas,'Courier New',monospace\"><span style=\"font-weight: bold\"> Total params: </span><span style=\"color: #00af00; text-decoration-color: #00af00\">2,276,010</span> (8.68 MB)\n",
       "</pre>\n"
      ],
      "text/plain": [
       "\u001b[1m Total params: \u001b[0m\u001b[38;5;34m2,276,010\u001b[0m (8.68 MB)\n"
      ]
     },
     "metadata": {},
     "output_type": "display_data"
    },
    {
     "data": {
      "text/html": [
       "<pre style=\"white-space:pre;overflow-x:auto;line-height:normal;font-family:Menlo,'DejaVu Sans Mono',consolas,'Courier New',monospace\"><span style=\"font-weight: bold\"> Trainable params: </span><span style=\"color: #00af00; text-decoration-color: #00af00\">2,276,010</span> (8.68 MB)\n",
       "</pre>\n"
      ],
      "text/plain": [
       "\u001b[1m Trainable params: \u001b[0m\u001b[38;5;34m2,276,010\u001b[0m (8.68 MB)\n"
      ]
     },
     "metadata": {},
     "output_type": "display_data"
    },
    {
     "data": {
      "text/html": [
       "<pre style=\"white-space:pre;overflow-x:auto;line-height:normal;font-family:Menlo,'DejaVu Sans Mono',consolas,'Courier New',monospace\"><span style=\"font-weight: bold\"> Non-trainable params: </span><span style=\"color: #00af00; text-decoration-color: #00af00\">0</span> (0.00 B)\n",
       "</pre>\n"
      ],
      "text/plain": [
       "\u001b[1m Non-trainable params: \u001b[0m\u001b[38;5;34m0\u001b[0m (0.00 B)\n"
      ]
     },
     "metadata": {},
     "output_type": "display_data"
    },
    {
     "name": "stdout",
     "output_type": "stream",
     "text": [
      "None\n"
     ]
    }
   ],
   "source": [
    "# printing the summary of RNN\n",
    "print(regressor.summary())"
   ]
  },
  {
   "cell_type": "code",
   "execution_count": 118,
   "id": "7563edac-d700-4057-b172-1d744a273ea8",
   "metadata": {
    "scrolled": true
   },
   "outputs": [
    {
     "name": "stdout",
     "output_type": "stream",
     "text": [
      "Epoch 1/100\n",
      "\u001b[1m8/8\u001b[0m \u001b[32m━━━━━━━━━━━━━━━━━━━━\u001b[0m\u001b[37m\u001b[0m \u001b[1m17s\u001b[0m 1s/step - accuracy: 0.2804 - loss: 0.1361 - val_accuracy: 0.0441 - val_loss: 0.0326\n",
      "Epoch 2/100\n",
      "\u001b[1m8/8\u001b[0m \u001b[32m━━━━━━━━━━━━━━━━━━━━\u001b[0m\u001b[37m\u001b[0m \u001b[1m9s\u001b[0m 1s/step - accuracy: 0.3308 - loss: 0.0282 - val_accuracy: 0.5294 - val_loss: 0.0274\n",
      "Epoch 3/100\n",
      "\u001b[1m8/8\u001b[0m \u001b[32m━━━━━━━━━━━━━━━━━━━━\u001b[0m\u001b[37m\u001b[0m \u001b[1m9s\u001b[0m 1s/step - accuracy: 0.4251 - loss: 0.0147 - val_accuracy: 0.4265 - val_loss: 0.0165\n",
      "Epoch 4/100\n",
      "\u001b[1m8/8\u001b[0m \u001b[32m━━━━━━━━━━━━━━━━━━━━\u001b[0m\u001b[37m\u001b[0m \u001b[1m9s\u001b[0m 1s/step - accuracy: 0.4752 - loss: 0.0118 - val_accuracy: 0.1838 - val_loss: 0.0127\n",
      "Epoch 5/100\n",
      "\u001b[1m8/8\u001b[0m \u001b[32m━━━━━━━━━━━━━━━━━━━━\u001b[0m\u001b[37m\u001b[0m \u001b[1m9s\u001b[0m 1s/step - accuracy: 0.6107 - loss: 0.0094 - val_accuracy: 0.6250 - val_loss: 0.0107\n",
      "Epoch 6/100\n",
      "\u001b[1m8/8\u001b[0m \u001b[32m━━━━━━━━━━━━━━━━━━━━\u001b[0m\u001b[37m\u001b[0m \u001b[1m9s\u001b[0m 1s/step - accuracy: 0.5823 - loss: 0.0084 - val_accuracy: 0.7279 - val_loss: 0.0119\n",
      "Epoch 7/100\n",
      "\u001b[1m8/8\u001b[0m \u001b[32m━━━━━━━━━━━━━━━━━━━━\u001b[0m\u001b[37m\u001b[0m \u001b[1m9s\u001b[0m 1s/step - accuracy: 0.5952 - loss: 0.0082 - val_accuracy: 0.6765 - val_loss: 0.0110\n",
      "Epoch 8/100\n",
      "\u001b[1m8/8\u001b[0m \u001b[32m━━━━━━━━━━━━━━━━━━━━\u001b[0m\u001b[37m\u001b[0m \u001b[1m9s\u001b[0m 1s/step - accuracy: 0.6055 - loss: 0.0084 - val_accuracy: 0.5809 - val_loss: 0.0102\n",
      "Epoch 9/100\n",
      "\u001b[1m8/8\u001b[0m \u001b[32m━━━━━━━━━━━━━━━━━━━━\u001b[0m\u001b[37m\u001b[0m \u001b[1m9s\u001b[0m 1s/step - accuracy: 0.5717 - loss: 0.0077 - val_accuracy: 0.6471 - val_loss: 0.0099\n",
      "Epoch 10/100\n",
      "\u001b[1m8/8\u001b[0m \u001b[32m━━━━━━━━━━━━━━━━━━━━\u001b[0m\u001b[37m\u001b[0m \u001b[1m9s\u001b[0m 1s/step - accuracy: 0.5640 - loss: 0.0069 - val_accuracy: 0.6985 - val_loss: 0.0092\n",
      "Epoch 11/100\n",
      "\u001b[1m8/8\u001b[0m \u001b[32m━━━━━━━━━━━━━━━━━━━━\u001b[0m\u001b[37m\u001b[0m \u001b[1m9s\u001b[0m 1s/step - accuracy: 0.5870 - loss: 0.0071 - val_accuracy: 0.4853 - val_loss: 0.0094\n",
      "Epoch 12/100\n",
      "\u001b[1m8/8\u001b[0m \u001b[32m━━━━━━━━━━━━━━━━━━━━\u001b[0m\u001b[37m\u001b[0m \u001b[1m9s\u001b[0m 1s/step - accuracy: 0.6093 - loss: 0.0067 - val_accuracy: 0.5000 - val_loss: 0.0090\n",
      "Epoch 13/100\n",
      "\u001b[1m8/8\u001b[0m \u001b[32m━━━━━━━━━━━━━━━━━━━━\u001b[0m\u001b[37m\u001b[0m \u001b[1m9s\u001b[0m 1s/step - accuracy: 0.5736 - loss: 0.0065 - val_accuracy: 0.6544 - val_loss: 0.0081\n",
      "Epoch 14/100\n",
      "\u001b[1m8/8\u001b[0m \u001b[32m━━━━━━━━━━━━━━━━━━━━\u001b[0m\u001b[37m\u001b[0m \u001b[1m9s\u001b[0m 1s/step - accuracy: 0.5834 - loss: 0.0061 - val_accuracy: 0.6838 - val_loss: 0.0083\n",
      "Epoch 15/100\n",
      "\u001b[1m8/8\u001b[0m \u001b[32m━━━━━━━━━━━━━━━━━━━━\u001b[0m\u001b[37m\u001b[0m \u001b[1m9s\u001b[0m 1s/step - accuracy: 0.5801 - loss: 0.0059 - val_accuracy: 0.5441 - val_loss: 0.0086\n",
      "Epoch 16/100\n",
      "\u001b[1m8/8\u001b[0m \u001b[32m━━━━━━━━━━━━━━━━━━━━\u001b[0m\u001b[37m\u001b[0m \u001b[1m9s\u001b[0m 1s/step - accuracy: 0.5829 - loss: 0.0061 - val_accuracy: 0.6029 - val_loss: 0.0079\n",
      "Epoch 17/100\n",
      "\u001b[1m8/8\u001b[0m \u001b[32m━━━━━━━━━━━━━━━━━━━━\u001b[0m\u001b[37m\u001b[0m \u001b[1m9s\u001b[0m 1s/step - accuracy: 0.5978 - loss: 0.0057 - val_accuracy: 0.4191 - val_loss: 0.0075\n",
      "Epoch 18/100\n",
      "\u001b[1m8/8\u001b[0m \u001b[32m━━━━━━━━━━━━━━━━━━━━\u001b[0m\u001b[37m\u001b[0m \u001b[1m9s\u001b[0m 1s/step - accuracy: 0.6349 - loss: 0.0053 - val_accuracy: 0.6838 - val_loss: 0.0069\n",
      "Epoch 19/100\n",
      "\u001b[1m8/8\u001b[0m \u001b[32m━━━━━━━━━━━━━━━━━━━━\u001b[0m\u001b[37m\u001b[0m \u001b[1m9s\u001b[0m 1s/step - accuracy: 0.6719 - loss: 0.0052 - val_accuracy: 0.6471 - val_loss: 0.0069\n",
      "Epoch 20/100\n",
      "\u001b[1m8/8\u001b[0m \u001b[32m━━━━━━━━━━━━━━━━━━━━\u001b[0m\u001b[37m\u001b[0m \u001b[1m8s\u001b[0m 1s/step - accuracy: 0.6021 - loss: 0.0052 - val_accuracy: 0.7500 - val_loss: 0.0072\n",
      "Epoch 21/100\n",
      "\u001b[1m8/8\u001b[0m \u001b[32m━━━━━━━━━━━━━━━━━━━━\u001b[0m\u001b[37m\u001b[0m \u001b[1m9s\u001b[0m 1s/step - accuracy: 0.6183 - loss: 0.0052 - val_accuracy: 0.7059 - val_loss: 0.0071\n",
      "Epoch 22/100\n",
      "\u001b[1m8/8\u001b[0m \u001b[32m━━━━━━━━━━━━━━━━━━━━\u001b[0m\u001b[37m\u001b[0m \u001b[1m9s\u001b[0m 1s/step - accuracy: 0.6581 - loss: 0.0052 - val_accuracy: 0.7794 - val_loss: 0.0065\n",
      "Epoch 23/100\n",
      "\u001b[1m8/8\u001b[0m \u001b[32m━━━━━━━━━━━━━━━━━━━━\u001b[0m\u001b[37m\u001b[0m \u001b[1m9s\u001b[0m 1s/step - accuracy: 0.6722 - loss: 0.0047 - val_accuracy: 0.7721 - val_loss: 0.0070\n",
      "Epoch 24/100\n",
      "\u001b[1m8/8\u001b[0m \u001b[32m━━━━━━━━━━━━━━━━━━━━\u001b[0m\u001b[37m\u001b[0m \u001b[1m9s\u001b[0m 1s/step - accuracy: 0.6519 - loss: 0.0047 - val_accuracy: 0.7721 - val_loss: 0.0069\n",
      "Epoch 25/100\n",
      "\u001b[1m8/8\u001b[0m \u001b[32m━━━━━━━━━━━━━━━━━━━━\u001b[0m\u001b[37m\u001b[0m \u001b[1m9s\u001b[0m 1s/step - accuracy: 0.6793 - loss: 0.0044 - val_accuracy: 0.7794 - val_loss: 0.0073\n",
      "Epoch 26/100\n",
      "\u001b[1m8/8\u001b[0m \u001b[32m━━━━━━━━━━━━━━━━━━━━\u001b[0m\u001b[37m\u001b[0m \u001b[1m9s\u001b[0m 1s/step - accuracy: 0.6716 - loss: 0.0050 - val_accuracy: 0.7426 - val_loss: 0.0069\n",
      "Epoch 27/100\n",
      "\u001b[1m8/8\u001b[0m \u001b[32m━━━━━━━━━━━━━━━━━━━━\u001b[0m\u001b[37m\u001b[0m \u001b[1m9s\u001b[0m 1s/step - accuracy: 0.6873 - loss: 0.0043 - val_accuracy: 0.7721 - val_loss: 0.0078\n",
      "Epoch 28/100\n",
      "\u001b[1m8/8\u001b[0m \u001b[32m━━━━━━━━━━━━━━━━━━━━\u001b[0m\u001b[37m\u001b[0m \u001b[1m9s\u001b[0m 1s/step - accuracy: 0.6649 - loss: 0.0046 - val_accuracy: 0.6912 - val_loss: 0.0074\n",
      "Epoch 29/100\n",
      "\u001b[1m8/8\u001b[0m \u001b[32m━━━━━━━━━━━━━━━━━━━━\u001b[0m\u001b[37m\u001b[0m \u001b[1m9s\u001b[0m 1s/step - accuracy: 0.6377 - loss: 0.0046 - val_accuracy: 0.7353 - val_loss: 0.0059\n",
      "Epoch 30/100\n",
      "\u001b[1m8/8\u001b[0m \u001b[32m━━━━━━━━━━━━━━━━━━━━\u001b[0m\u001b[37m\u001b[0m \u001b[1m9s\u001b[0m 1s/step - accuracy: 0.6827 - loss: 0.0044 - val_accuracy: 0.6765 - val_loss: 0.0061\n",
      "Epoch 31/100\n",
      "\u001b[1m8/8\u001b[0m \u001b[32m━━━━━━━━━━━━━━━━━━━━\u001b[0m\u001b[37m\u001b[0m \u001b[1m9s\u001b[0m 1s/step - accuracy: 0.6636 - loss: 0.0046 - val_accuracy: 0.7500 - val_loss: 0.0058\n",
      "Epoch 32/100\n",
      "\u001b[1m8/8\u001b[0m \u001b[32m━━━━━━━━━━━━━━━━━━━━\u001b[0m\u001b[37m\u001b[0m \u001b[1m9s\u001b[0m 1s/step - accuracy: 0.6792 - loss: 0.0042 - val_accuracy: 0.7353 - val_loss: 0.0061\n",
      "Epoch 33/100\n",
      "\u001b[1m8/8\u001b[0m \u001b[32m━━━━━━━━━━━━━━━━━━━━\u001b[0m\u001b[37m\u001b[0m \u001b[1m9s\u001b[0m 1s/step - accuracy: 0.7310 - loss: 0.0041 - val_accuracy: 0.7132 - val_loss: 0.0072\n",
      "Epoch 34/100\n",
      "\u001b[1m8/8\u001b[0m \u001b[32m━━━━━━━━━━━━━━━━━━━━\u001b[0m\u001b[37m\u001b[0m \u001b[1m9s\u001b[0m 1s/step - accuracy: 0.6763 - loss: 0.0048 - val_accuracy: 0.7279 - val_loss: 0.0061\n",
      "Epoch 35/100\n",
      "\u001b[1m8/8\u001b[0m \u001b[32m━━━━━━━━━━━━━━━━━━━━\u001b[0m\u001b[37m\u001b[0m \u001b[1m9s\u001b[0m 1s/step - accuracy: 0.6797 - loss: 0.0047 - val_accuracy: 0.7279 - val_loss: 0.0062\n",
      "Epoch 36/100\n",
      "\u001b[1m8/8\u001b[0m \u001b[32m━━━━━━━━━━━━━━━━━━━━\u001b[0m\u001b[37m\u001b[0m \u001b[1m9s\u001b[0m 1s/step - accuracy: 0.7003 - loss: 0.0043 - val_accuracy: 0.7353 - val_loss: 0.0060\n",
      "Epoch 37/100\n",
      "\u001b[1m8/8\u001b[0m \u001b[32m━━━━━━━━━━━━━━━━━━━━\u001b[0m\u001b[37m\u001b[0m \u001b[1m9s\u001b[0m 1s/step - accuracy: 0.6953 - loss: 0.0040 - val_accuracy: 0.7059 - val_loss: 0.0063\n",
      "Epoch 38/100\n",
      "\u001b[1m8/8\u001b[0m \u001b[32m━━━━━━━━━━━━━━━━━━━━\u001b[0m\u001b[37m\u001b[0m \u001b[1m9s\u001b[0m 1s/step - accuracy: 0.6999 - loss: 0.0041 - val_accuracy: 0.7500 - val_loss: 0.0060\n",
      "Epoch 39/100\n",
      "\u001b[1m8/8\u001b[0m \u001b[32m━━━━━━━━━━━━━━━━━━━━\u001b[0m\u001b[37m\u001b[0m \u001b[1m9s\u001b[0m 1s/step - accuracy: 0.7265 - loss: 0.0042 - val_accuracy: 0.8015 - val_loss: 0.0057\n",
      "Epoch 40/100\n",
      "\u001b[1m8/8\u001b[0m \u001b[32m━━━━━━━━━━━━━━━━━━━━\u001b[0m\u001b[37m\u001b[0m \u001b[1m9s\u001b[0m 1s/step - accuracy: 0.6741 - loss: 0.0045 - val_accuracy: 0.8015 - val_loss: 0.0055\n",
      "Epoch 41/100\n",
      "\u001b[1m8/8\u001b[0m \u001b[32m━━━━━━━━━━━━━━━━━━━━\u001b[0m\u001b[37m\u001b[0m \u001b[1m9s\u001b[0m 1s/step - accuracy: 0.7002 - loss: 0.0040 - val_accuracy: 0.7353 - val_loss: 0.0060\n",
      "Epoch 42/100\n",
      "\u001b[1m8/8\u001b[0m \u001b[32m━━━━━━━━━━━━━━━━━━━━\u001b[0m\u001b[37m\u001b[0m \u001b[1m9s\u001b[0m 1s/step - accuracy: 0.6879 - loss: 0.0044 - val_accuracy: 0.7500 - val_loss: 0.0061\n",
      "Epoch 43/100\n",
      "\u001b[1m8/8\u001b[0m \u001b[32m━━━━━━━━━━━━━━━━━━━━\u001b[0m\u001b[37m\u001b[0m \u001b[1m9s\u001b[0m 1s/step - accuracy: 0.7331 - loss: 0.0038 - val_accuracy: 0.7574 - val_loss: 0.0064\n",
      "Epoch 44/100\n",
      "\u001b[1m8/8\u001b[0m \u001b[32m━━━━━━━━━━━━━━━━━━━━\u001b[0m\u001b[37m\u001b[0m \u001b[1m8s\u001b[0m 1s/step - accuracy: 0.7460 - loss: 0.0039 - val_accuracy: 0.7426 - val_loss: 0.0067\n",
      "Epoch 45/100\n",
      "\u001b[1m8/8\u001b[0m \u001b[32m━━━━━━━━━━━━━━━━━━━━\u001b[0m\u001b[37m\u001b[0m \u001b[1m8s\u001b[0m 1s/step - accuracy: 0.7153 - loss: 0.0034 - val_accuracy: 0.7426 - val_loss: 0.0058\n",
      "Epoch 46/100\n",
      "\u001b[1m8/8\u001b[0m \u001b[32m━━━━━━━━━━━━━━━━━━━━\u001b[0m\u001b[37m\u001b[0m \u001b[1m9s\u001b[0m 1s/step - accuracy: 0.6324 - loss: 0.0038 - val_accuracy: 0.6912 - val_loss: 0.0058\n",
      "Epoch 47/100\n",
      "\u001b[1m8/8\u001b[0m \u001b[32m━━━━━━━━━━━━━━━━━━━━\u001b[0m\u001b[37m\u001b[0m \u001b[1m9s\u001b[0m 1s/step - accuracy: 0.7297 - loss: 0.0035 - val_accuracy: 0.7353 - val_loss: 0.0057\n",
      "Epoch 48/100\n",
      "\u001b[1m8/8\u001b[0m \u001b[32m━━━━━━━━━━━━━━━━━━━━\u001b[0m\u001b[37m\u001b[0m \u001b[1m9s\u001b[0m 1s/step - accuracy: 0.7160 - loss: 0.0034 - val_accuracy: 0.7574 - val_loss: 0.0064\n",
      "Epoch 49/100\n",
      "\u001b[1m8/8\u001b[0m \u001b[32m━━━━━━━━━━━━━━━━━━━━\u001b[0m\u001b[37m\u001b[0m \u001b[1m9s\u001b[0m 1s/step - accuracy: 0.7210 - loss: 0.0039 - val_accuracy: 0.6985 - val_loss: 0.0067\n",
      "Epoch 50/100\n",
      "\u001b[1m8/8\u001b[0m \u001b[32m━━━━━━━━━━━━━━━━━━━━\u001b[0m\u001b[37m\u001b[0m \u001b[1m9s\u001b[0m 1s/step - accuracy: 0.7205 - loss: 0.0039 - val_accuracy: 0.7353 - val_loss: 0.0062\n",
      "Epoch 51/100\n",
      "\u001b[1m8/8\u001b[0m \u001b[32m━━━━━━━━━━━━━━━━━━━━\u001b[0m\u001b[37m\u001b[0m \u001b[1m9s\u001b[0m 1s/step - accuracy: 0.7504 - loss: 0.0037 - val_accuracy: 0.7647 - val_loss: 0.0064\n",
      "Epoch 52/100\n",
      "\u001b[1m8/8\u001b[0m \u001b[32m━━━━━━━━━━━━━━━━━━━━\u001b[0m\u001b[37m\u001b[0m \u001b[1m9s\u001b[0m 1s/step - accuracy: 0.7303 - loss: 0.0035 - val_accuracy: 0.7426 - val_loss: 0.0071\n",
      "Epoch 53/100\n",
      "\u001b[1m8/8\u001b[0m \u001b[32m━━━━━━━━━━━━━━━━━━━━\u001b[0m\u001b[37m\u001b[0m \u001b[1m9s\u001b[0m 1s/step - accuracy: 0.7533 - loss: 0.0038 - val_accuracy: 0.7206 - val_loss: 0.0063\n",
      "Epoch 54/100\n",
      "\u001b[1m8/8\u001b[0m \u001b[32m━━━━━━━━━━━━━━━━━━━━\u001b[0m\u001b[37m\u001b[0m \u001b[1m9s\u001b[0m 1s/step - accuracy: 0.7513 - loss: 0.0035 - val_accuracy: 0.6985 - val_loss: 0.0062\n",
      "Epoch 55/100\n",
      "\u001b[1m8/8\u001b[0m \u001b[32m━━━━━━━━━━━━━━━━━━━━\u001b[0m\u001b[37m\u001b[0m \u001b[1m9s\u001b[0m 1s/step - accuracy: 0.7181 - loss: 0.0037 - val_accuracy: 0.7647 - val_loss: 0.0053\n",
      "Epoch 56/100\n",
      "\u001b[1m8/8\u001b[0m \u001b[32m━━━━━━━━━━━━━━━━━━━━\u001b[0m\u001b[37m\u001b[0m \u001b[1m10s\u001b[0m 1s/step - accuracy: 0.7473 - loss: 0.0034 - val_accuracy: 0.6691 - val_loss: 0.0061\n",
      "Epoch 57/100\n",
      "\u001b[1m8/8\u001b[0m \u001b[32m━━━━━━━━━━━━━━━━━━━━\u001b[0m\u001b[37m\u001b[0m \u001b[1m11s\u001b[0m 1s/step - accuracy: 0.7228 - loss: 0.0038 - val_accuracy: 0.7500 - val_loss: 0.0068\n",
      "Epoch 58/100\n",
      "\u001b[1m8/8\u001b[0m \u001b[32m━━━━━━━━━━━━━━━━━━━━\u001b[0m\u001b[37m\u001b[0m \u001b[1m11s\u001b[0m 1s/step - accuracy: 0.7512 - loss: 0.0032 - val_accuracy: 0.6618 - val_loss: 0.0074\n",
      "Epoch 59/100\n",
      "\u001b[1m8/8\u001b[0m \u001b[32m━━━━━━━━━━━━━━━━━━━━\u001b[0m\u001b[37m\u001b[0m \u001b[1m11s\u001b[0m 1s/step - accuracy: 0.7206 - loss: 0.0035 - val_accuracy: 0.6985 - val_loss: 0.0064\n",
      "Epoch 60/100\n",
      "\u001b[1m8/8\u001b[0m \u001b[32m━━━━━━━━━━━━━━━━━━━━\u001b[0m\u001b[37m\u001b[0m \u001b[1m11s\u001b[0m 1s/step - accuracy: 0.7410 - loss: 0.0033 - val_accuracy: 0.6618 - val_loss: 0.0064\n",
      "Epoch 61/100\n",
      "\u001b[1m8/8\u001b[0m \u001b[32m━━━━━━━━━━━━━━━━━━━━\u001b[0m\u001b[37m\u001b[0m \u001b[1m21s\u001b[0m 1s/step - accuracy: 0.7137 - loss: 0.0035 - val_accuracy: 0.6912 - val_loss: 0.0061\n",
      "Epoch 62/100\n",
      "\u001b[1m8/8\u001b[0m \u001b[32m━━━━━━━━━━━━━━━━━━━━\u001b[0m\u001b[37m\u001b[0m \u001b[1m11s\u001b[0m 1s/step - accuracy: 0.7469 - loss: 0.0033 - val_accuracy: 0.6691 - val_loss: 0.0067\n",
      "Epoch 63/100\n",
      "\u001b[1m8/8\u001b[0m \u001b[32m━━━━━━━━━━━━━━━━━━━━\u001b[0m\u001b[37m\u001b[0m \u001b[1m11s\u001b[0m 1s/step - accuracy: 0.7371 - loss: 0.0034 - val_accuracy: 0.7574 - val_loss: 0.0055\n",
      "Epoch 64/100\n",
      "\u001b[1m8/8\u001b[0m \u001b[32m━━━━━━━━━━━━━━━━━━━━\u001b[0m\u001b[37m\u001b[0m \u001b[1m11s\u001b[0m 1s/step - accuracy: 0.7223 - loss: 0.0039 - val_accuracy: 0.6765 - val_loss: 0.0060\n",
      "Epoch 65/100\n",
      "\u001b[1m8/8\u001b[0m \u001b[32m━━━━━━━━━━━━━━━━━━━━\u001b[0m\u001b[37m\u001b[0m \u001b[1m11s\u001b[0m 1s/step - accuracy: 0.7154 - loss: 0.0035 - val_accuracy: 0.7868 - val_loss: 0.0056\n",
      "Epoch 66/100\n",
      "\u001b[1m8/8\u001b[0m \u001b[32m━━━━━━━━━━━━━━━━━━━━\u001b[0m\u001b[37m\u001b[0m \u001b[1m11s\u001b[0m 1s/step - accuracy: 0.7152 - loss: 0.0038 - val_accuracy: 0.6985 - val_loss: 0.0064\n",
      "Epoch 67/100\n",
      "\u001b[1m8/8\u001b[0m \u001b[32m━━━━━━━━━━━━━━━━━━━━\u001b[0m\u001b[37m\u001b[0m \u001b[1m11s\u001b[0m 1s/step - accuracy: 0.7512 - loss: 0.0033 - val_accuracy: 0.7132 - val_loss: 0.0064\n",
      "Epoch 68/100\n",
      "\u001b[1m8/8\u001b[0m \u001b[32m━━━━━━━━━━━━━━━━━━━━\u001b[0m\u001b[37m\u001b[0m \u001b[1m11s\u001b[0m 1s/step - accuracy: 0.7394 - loss: 0.0034 - val_accuracy: 0.7279 - val_loss: 0.0065\n",
      "Epoch 69/100\n",
      "\u001b[1m8/8\u001b[0m \u001b[32m━━━━━━━━━━━━━━━━━━━━\u001b[0m\u001b[37m\u001b[0m \u001b[1m11s\u001b[0m 1s/step - accuracy: 0.7711 - loss: 0.0036 - val_accuracy: 0.7353 - val_loss: 0.0062\n",
      "Epoch 70/100\n",
      "\u001b[1m8/8\u001b[0m \u001b[32m━━━━━━━━━━━━━━━━━━━━\u001b[0m\u001b[37m\u001b[0m \u001b[1m11s\u001b[0m 1s/step - accuracy: 0.7298 - loss: 0.0033 - val_accuracy: 0.7647 - val_loss: 0.0065\n",
      "Epoch 71/100\n",
      "\u001b[1m8/8\u001b[0m \u001b[32m━━━━━━━━━━━━━━━━━━━━\u001b[0m\u001b[37m\u001b[0m \u001b[1m11s\u001b[0m 1s/step - accuracy: 0.7447 - loss: 0.0031 - val_accuracy: 0.7353 - val_loss: 0.0059\n",
      "Epoch 72/100\n",
      "\u001b[1m8/8\u001b[0m \u001b[32m━━━━━━━━━━━━━━━━━━━━\u001b[0m\u001b[37m\u001b[0m \u001b[1m11s\u001b[0m 1s/step - accuracy: 0.7529 - loss: 0.0035 - val_accuracy: 0.7279 - val_loss: 0.0062\n",
      "Epoch 73/100\n",
      "\u001b[1m8/8\u001b[0m \u001b[32m━━━━━━━━━━━━━━━━━━━━\u001b[0m\u001b[37m\u001b[0m \u001b[1m21s\u001b[0m 1s/step - accuracy: 0.7476 - loss: 0.0035 - val_accuracy: 0.7574 - val_loss: 0.0058\n",
      "Epoch 74/100\n",
      "\u001b[1m8/8\u001b[0m \u001b[32m━━━━━━━━━━━━━━━━━━━━\u001b[0m\u001b[37m\u001b[0m \u001b[1m11s\u001b[0m 1s/step - accuracy: 0.7599 - loss: 0.0033 - val_accuracy: 0.7279 - val_loss: 0.0063\n",
      "Epoch 75/100\n",
      "\u001b[1m8/8\u001b[0m \u001b[32m━━━━━━━━━━━━━━━━━━━━\u001b[0m\u001b[37m\u001b[0m \u001b[1m11s\u001b[0m 1s/step - accuracy: 0.7505 - loss: 0.0032 - val_accuracy: 0.7206 - val_loss: 0.0063\n",
      "Epoch 76/100\n",
      "\u001b[1m8/8\u001b[0m \u001b[32m━━━━━━━━━━━━━━━━━━━━\u001b[0m\u001b[37m\u001b[0m \u001b[1m11s\u001b[0m 1s/step - accuracy: 0.7499 - loss: 0.0035 - val_accuracy: 0.6912 - val_loss: 0.0073\n",
      "Epoch 77/100\n",
      "\u001b[1m8/8\u001b[0m \u001b[32m━━━━━━━━━━━━━━━━━━━━\u001b[0m\u001b[37m\u001b[0m \u001b[1m11s\u001b[0m 1s/step - accuracy: 0.7394 - loss: 0.0035 - val_accuracy: 0.6985 - val_loss: 0.0072\n",
      "Epoch 78/100\n",
      "\u001b[1m8/8\u001b[0m \u001b[32m━━━━━━━━━━━━━━━━━━━━\u001b[0m\u001b[37m\u001b[0m \u001b[1m11s\u001b[0m 1s/step - accuracy: 0.7840 - loss: 0.0029 - val_accuracy: 0.6765 - val_loss: 0.0074\n",
      "Epoch 79/100\n",
      "\u001b[1m8/8\u001b[0m \u001b[32m━━━━━━━━━━━━━━━━━━━━\u001b[0m\u001b[37m\u001b[0m \u001b[1m21s\u001b[0m 1s/step - accuracy: 0.7452 - loss: 0.0032 - val_accuracy: 0.6765 - val_loss: 0.0066\n",
      "Epoch 80/100\n",
      "\u001b[1m8/8\u001b[0m \u001b[32m━━━━━━━━━━━━━━━━━━━━\u001b[0m\u001b[37m\u001b[0m \u001b[1m11s\u001b[0m 1s/step - accuracy: 0.7267 - loss: 0.0035 - val_accuracy: 0.6765 - val_loss: 0.0064\n",
      "Epoch 81/100\n",
      "\u001b[1m8/8\u001b[0m \u001b[32m━━━━━━━━━━━━━━━━━━━━\u001b[0m\u001b[37m\u001b[0m \u001b[1m21s\u001b[0m 1s/step - accuracy: 0.7588 - loss: 0.0032 - val_accuracy: 0.7574 - val_loss: 0.0058\n",
      "Epoch 82/100\n",
      "\u001b[1m8/8\u001b[0m \u001b[32m━━━━━━━━━━━━━━━━━━━━\u001b[0m\u001b[37m\u001b[0m \u001b[1m11s\u001b[0m 1s/step - accuracy: 0.7479 - loss: 0.0031 - val_accuracy: 0.7206 - val_loss: 0.0075\n",
      "Epoch 83/100\n",
      "\u001b[1m8/8\u001b[0m \u001b[32m━━━━━━━━━━━━━━━━━━━━\u001b[0m\u001b[37m\u001b[0m \u001b[1m11s\u001b[0m 1s/step - accuracy: 0.7429 - loss: 0.0029 - val_accuracy: 0.7574 - val_loss: 0.0076\n",
      "Epoch 84/100\n",
      "\u001b[1m8/8\u001b[0m \u001b[32m━━━━━━━━━━━━━━━━━━━━\u001b[0m\u001b[37m\u001b[0m \u001b[1m21s\u001b[0m 1s/step - accuracy: 0.7381 - loss: 0.0034 - val_accuracy: 0.7574 - val_loss: 0.0075\n",
      "Epoch 85/100\n",
      "\u001b[1m8/8\u001b[0m \u001b[32m━━━━━━━━━━━━━━━━━━━━\u001b[0m\u001b[37m\u001b[0m \u001b[1m11s\u001b[0m 1s/step - accuracy: 0.7461 - loss: 0.0030 - val_accuracy: 0.7206 - val_loss: 0.0072\n",
      "Epoch 86/100\n",
      "\u001b[1m8/8\u001b[0m \u001b[32m━━━━━━━━━━━━━━━━━━━━\u001b[0m\u001b[37m\u001b[0m \u001b[1m20s\u001b[0m 1s/step - accuracy: 0.7456 - loss: 0.0037 - val_accuracy: 0.7500 - val_loss: 0.0066\n",
      "Epoch 87/100\n",
      "\u001b[1m8/8\u001b[0m \u001b[32m━━━━━━━━━━━━━━━━━━━━\u001b[0m\u001b[37m\u001b[0m \u001b[1m11s\u001b[0m 1s/step - accuracy: 0.7640 - loss: 0.0031 - val_accuracy: 0.7500 - val_loss: 0.0058\n",
      "Epoch 88/100\n",
      "\u001b[1m8/8\u001b[0m \u001b[32m━━━━━━━━━━━━━━━━━━━━\u001b[0m\u001b[37m\u001b[0m \u001b[1m21s\u001b[0m 1s/step - accuracy: 0.7252 - loss: 0.0029 - val_accuracy: 0.7500 - val_loss: 0.0066\n",
      "Epoch 89/100\n",
      "\u001b[1m8/8\u001b[0m \u001b[32m━━━━━━━━━━━━━━━━━━━━\u001b[0m\u001b[37m\u001b[0m \u001b[1m11s\u001b[0m 1s/step - accuracy: 0.7420 - loss: 0.0030 - val_accuracy: 0.7132 - val_loss: 0.0087\n",
      "Epoch 90/100\n",
      "\u001b[1m8/8\u001b[0m \u001b[32m━━━━━━━━━━━━━━━━━━━━\u001b[0m\u001b[37m\u001b[0m \u001b[1m11s\u001b[0m 1s/step - accuracy: 0.7347 - loss: 0.0030 - val_accuracy: 0.7500 - val_loss: 0.0063\n",
      "Epoch 91/100\n",
      "\u001b[1m8/8\u001b[0m \u001b[32m━━━━━━━━━━━━━━━━━━━━\u001b[0m\u001b[37m\u001b[0m \u001b[1m11s\u001b[0m 1s/step - accuracy: 0.7445 - loss: 0.0025 - val_accuracy: 0.7059 - val_loss: 0.0068\n",
      "Epoch 92/100\n",
      "\u001b[1m8/8\u001b[0m \u001b[32m━━━━━━━━━━━━━━━━━━━━\u001b[0m\u001b[37m\u001b[0m \u001b[1m11s\u001b[0m 1s/step - accuracy: 0.7494 - loss: 0.0031 - val_accuracy: 0.6985 - val_loss: 0.0070\n",
      "Epoch 93/100\n",
      "\u001b[1m8/8\u001b[0m \u001b[32m━━━━━━━━━━━━━━━━━━━━\u001b[0m\u001b[37m\u001b[0m \u001b[1m11s\u001b[0m 1s/step - accuracy: 0.7367 - loss: 0.0031 - val_accuracy: 0.7279 - val_loss: 0.0067\n",
      "Epoch 94/100\n",
      "\u001b[1m8/8\u001b[0m \u001b[32m━━━━━━━━━━━━━━━━━━━━\u001b[0m\u001b[37m\u001b[0m \u001b[1m11s\u001b[0m 1s/step - accuracy: 0.7588 - loss: 0.0026 - val_accuracy: 0.7279 - val_loss: 0.0080\n",
      "Epoch 95/100\n",
      "\u001b[1m8/8\u001b[0m \u001b[32m━━━━━━━━━━━━━━━━━━━━\u001b[0m\u001b[37m\u001b[0m \u001b[1m11s\u001b[0m 1s/step - accuracy: 0.7869 - loss: 0.0029 - val_accuracy: 0.6912 - val_loss: 0.0072\n",
      "Epoch 96/100\n",
      "\u001b[1m8/8\u001b[0m \u001b[32m━━━━━━━━━━━━━━━━━━━━\u001b[0m\u001b[37m\u001b[0m \u001b[1m11s\u001b[0m 1s/step - accuracy: 0.7581 - loss: 0.0031 - val_accuracy: 0.6838 - val_loss: 0.0070\n",
      "Epoch 97/100\n",
      "\u001b[1m8/8\u001b[0m \u001b[32m━━━━━━━━━━━━━━━━━━━━\u001b[0m\u001b[37m\u001b[0m \u001b[1m11s\u001b[0m 1s/step - accuracy: 0.7485 - loss: 0.0031 - val_accuracy: 0.6618 - val_loss: 0.0075\n",
      "Epoch 98/100\n",
      "\u001b[1m8/8\u001b[0m \u001b[32m━━━━━━━━━━━━━━━━━━━━\u001b[0m\u001b[37m\u001b[0m \u001b[1m11s\u001b[0m 1s/step - accuracy: 0.7891 - loss: 0.0029 - val_accuracy: 0.7132 - val_loss: 0.0073\n",
      "Epoch 99/100\n",
      "\u001b[1m8/8\u001b[0m \u001b[32m━━━━━━━━━━━━━━━━━━━━\u001b[0m\u001b[37m\u001b[0m \u001b[1m11s\u001b[0m 1s/step - accuracy: 0.7733 - loss: 0.0027 - val_accuracy: 0.7132 - val_loss: 0.0065\n",
      "Epoch 100/100\n",
      "\u001b[1m8/8\u001b[0m \u001b[32m━━━━━━━━━━━━━━━━━━━━\u001b[0m\u001b[37m\u001b[0m \u001b[1m10s\u001b[0m 1s/step - accuracy: 0.7836 - loss: 0.0026 - val_accuracy: 0.7206 - val_loss: 0.0074\n"
     ]
    }
   ],
   "source": [
    "history = regressor.fit(X_train,y_train,epochs=100, batch_size=70,validation_split=0.2)"
   ]
  },
  {
   "cell_type": "markdown",
   "id": "78e09527-4577-4f34-8f71-392ea6b0500b",
   "metadata": {},
   "source": [
    "# Plotting loss and accuracy curves"
   ]
  },
  {
   "cell_type": "code",
   "execution_count": 21,
   "id": "3a63e33d-f41b-496f-8bdd-b1d17a359e47",
   "metadata": {},
   "outputs": [
    {
     "data": {
      "image/png": "[encoded data removed]",
      "text/plain": [
       "<Figure size 640x480 with 1 Axes>"
      ]
     },
     "metadata": {},
     "output_type": "display_data"
    }
   ],
   "source": [
    "plt.plot(history.history['loss'])\n",
    "plt.plot(history.history['val_loss'])\n",
    "plt.title('Loss curve')\n",
    "plt.xlabel('Epoch')\n",
    "plt.ylabel('Loss')\n",
    "plt.legend(['Train','Validation'])\n",
    "plt.show()"
   ]
  },
  {
   "cell_type": "code",
   "execution_count": 22,
   "id": "4976e077-077f-42a6-a1ee-bad3dcab37c3",
   "metadata": {},
   "outputs": [
    {
     "data": {
      "image/png": "[encoded data removed]",
      "text/plain": [
       "<Figure size 640x480 with 1 Axes>"
      ]
     },
     "metadata": {},
     "output_type": "display_data"
    }
   ],
   "source": [
    "plt.plot(history.history['accuracy'])\n",
    "plt.plot(history.history['val_accuracy'])\n",
    "plt.title('Accuracy curve')\n",
    "plt.xlabel('Epoch')\n",
    "plt.ylabel('Accuracy')\n",
    "plt.legend(['Train','Validation'])\n",
    "plt.show()"
   ]
  },
  {
   "cell_type": "markdown",
   "id": "38293b55-6c47-4b48-b5a3-75c74bc1af4d",
   "metadata": {},
   "source": [
    "# Saving the model"
   ]
  },
  {
   "cell_type": "code",
   "execution_count": 14,
   "id": "157c761b-ce38-4265-b033-7513f96cbdc3",
   "metadata": {},
   "outputs": [],
   "source": [
    "regressor.save('D:\\\\Projects\\\\Jupyter_Lab\\\\Stock_market_predictor\\\\Stock_predictor_BSE_2025\\\\model_files\\\\stock_predictor.keras')"
   ]
  },
  {
   "cell_type": "code",
   "execution_count": 16,
   "id": "3e74f6e8-1d69-4622-a67d-54ee8ddd8ca6",
   "metadata": {},
   "outputs": [],
   "source": [
    "regressor_load = load_model('D:\\\\Projects\\\\Jupyter_Lab\\\\Stock_market_predictor\\\\Stock_predictor_BSE_2025\\\\model_files\\\\stock_predictor.keras')"
   ]
  },
  {
   "cell_type": "code",
   "execution_count": 18,
   "id": "7464e1d8-f43a-478c-9f74-aa9724b01065",
   "metadata": {},
   "outputs": [
    {
     "name": "stdout",
     "output_type": "stream",
     "text": [
      "\u001b[1m22/22\u001b[0m \u001b[32m━━━━━━━━━━━━━━━━━━━━\u001b[0m\u001b[37m\u001b[0m \u001b[1m2s\u001b[0m 96ms/step\n"
     ]
    },
    {
     "data": {
      "text/plain": [
       "array([[0.14576635, 0.2899355 , 0.18122691, 0.06700765, 0.19596235],\n",
       "       [0.1497519 , 0.29457095, 0.18321799, 0.06979957, 0.1973482 ],\n",
       "       [0.15031499, 0.2955167 , 0.18017523, 0.07011744, 0.19393386],\n",
       "       ...,\n",
       "       [0.7462009 , 0.0730631 , 0.54962236, 0.60195225, 0.7327398 ],\n",
       "       [0.7514622 , 0.06994204, 0.57900655, 0.60723805, 0.7396984 ],\n",
       "       [0.7593029 , 0.06840616, 0.6003049 , 0.6122361 , 0.7437347 ]],\n",
       "      dtype=float32)"
      ]
     },
     "execution_count": 18,
     "metadata": {},
     "output_type": "execute_result"
    }
   ],
   "source": [
    "regressor_load.predict(X_train)"
   ]
  },
  {
   "cell_type": "code",
   "execution_count": null,
   "id": "0fdbe95e-d735-4549-b092-bedb63c76da7",
   "metadata": {},
   "outputs": [],
   "source": []
  }
 ],
 "metadata": {
  "kernelspec": {
   "display_name": "Python 3 (ipykernel)",
   "language": "python",
   "name": "python3"
  },
  "language_info": {
   "codemirror_mode": {
    "name": "ipython",
    "version": 3
   },
   "file_extension": ".py",
   "mimetype": "text/x-python",
   "name": "python",
   "nbconvert_exporter": "python",
   "pygments_lexer": "ipython3",
   "version": "3.12.10"
  }
 },
 "nbformat": 4,
 "nbformat_minor": 5
}
