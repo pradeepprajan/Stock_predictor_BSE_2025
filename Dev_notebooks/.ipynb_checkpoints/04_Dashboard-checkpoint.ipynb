{
 "cells": [
  {
   "cell_type": "markdown",
   "id": "069cea04-6b00-4c04-80a3-9c35a47fdefe",
   "metadata": {},
   "source": [
    "# Importing the necessary libraries"
   ]
  },
  {
   "cell_type": "code",
   "execution_count": 10,
   "id": "d7cbf0ba-0142-440f-b589-77ee94a97af0",
   "metadata": {},
   "outputs": [],
   "source": [
    "from dash import Dash, html, dcc, callback, Output, Input\n",
    "import dash_bootstrap_components as dbc\n",
    "import pandas as pd\n",
    "import plotly.graph_objs as go\n",
    "from datetime import datetime,date\n",
    "from dash.dependencies import Output, Input"
   ]
  },
  {
   "cell_type": "markdown",
   "id": "cca519dd-311d-4434-ac1c-382ccef8c459",
   "metadata": {},
   "source": [
    "# Importing the predictions dataset"
   ]
  },
  {
   "cell_type": "code",
   "execution_count": 11,
   "id": "0bc3c64c-0073-4d05-91a5-b1dd91ab902a",
   "metadata": {},
   "outputs": [],
   "source": [
    "today_date = date.today().strftime(\"%Y-%m-%d\")\n",
    "today_prediction = pd.read_csv(f\"D:\\\\Projects\\\\Jupyter_Lab\\\\Stock_market_predictor\\\\stock_prices_predictions\\\\Predictions_{today_date}.csv\")"
   ]
  },
  {
   "cell_type": "markdown",
   "id": "30b7a9f1-246b-4b31-8bf2-6ed7df4b611b",
   "metadata": {},
   "source": [
    "# Creating the dashboard"
   ]
  },
  {
   "cell_type": "code",
   "execution_count": null,
   "id": "b085b596-9278-4840-a614-5ef3e6d03fa7",
   "metadata": {},
   "outputs": [],
   "source": [
    "app = Dash(__name__,external_stylesheets=[dbc.themes.COSMO])\n",
    "server = app.server\n",
    "stocks = ['ASHOKLEY','CANBK','LICI','ONGC','SBIN']\n",
    "option_list = []\n",
    "\n",
    "for stock in stocks:\n",
    "    params = {'label':stock,'value':stock}\n",
    "    params.append(option_list)\n",
    "    \n",
    "dropdown = html.Div([\n",
    "    html.Label('Select the stock in BSE which you want to analyze',style={'display':'block','fontSize':15,'marginLeft':10}),\n",
    "    dcc.Dropdown(\n",
    "        id = 'stock',\n",
    "        option = option_list,\n",
    "        value = 'ASHOKLEY',\n",
    "        clearable = False,\n",
    "        style = {'marginLeft' : 10, 'marginRight' : 20}\n",
    "    )\n",
    "button =  html.Div([\n",
    "    html.Button('Recalibrate model',id='recalibrate',style={'marginLeft': 10, 'marginRight': 20})\n",
    "])"
   ]
  }
 ],
 "metadata": {
  "kernelspec": {
   "display_name": "Python 3 (ipykernel)",
   "language": "python",
   "name": "python3"
  },
  "language_info": {
   "codemirror_mode": {
    "name": "ipython",
    "version": 3
   },
   "file_extension": ".py",
   "mimetype": "text/x-python",
   "name": "python",
   "nbconvert_exporter": "python",
   "pygments_lexer": "ipython3",
   "version": "3.12.10"
  }
 },
 "nbformat": 4,
 "nbformat_minor": 5
}
