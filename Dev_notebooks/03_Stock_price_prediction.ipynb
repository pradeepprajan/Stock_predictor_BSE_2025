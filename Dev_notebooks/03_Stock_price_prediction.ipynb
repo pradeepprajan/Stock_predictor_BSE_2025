{
 "cells": [
  {
   "cell_type": "markdown",
   "id": "35d24184-39d2-4c5a-9c02-da6160c930a8",
   "metadata": {},
   "source": [
    "# Importing the necessary libraries"
   ]
  },
  {
   "cell_type": "code",
   "execution_count": 1,
   "id": "6c4d5589-1740-4717-a405-565e83e73480",
   "metadata": {},
   "outputs": [],
   "source": [
    "import pandas as pd\n",
    "import numpy as np\n",
    "import joblib\n",
    "from keras.models import load_model\n",
    "from datetime import datetime,date\n",
    "from dateutil.relativedelta import relativedelta"
   ]
  },
  {
   "cell_type": "markdown",
   "id": "7bce59d7-ae5d-48cf-965f-a2cf18594cad",
   "metadata": {},
   "source": [
    "# Reading and preprocessing of dataset"
   ]
  },
  {
   "cell_type": "code",
   "execution_count": 2,
   "id": "2ca97291-8031-4dcc-b336-89452e99bf07",
   "metadata": {},
   "outputs": [],
   "source": [
    "today_date = date.today().strftime(\"%Y-%m-%d\")"
   ]
  },
  {
   "cell_type": "code",
   "execution_count": 3,
   "id": "c82e64b8-1935-4505-a3e4-1b2ab3d24f12",
   "metadata": {},
   "outputs": [],
   "source": [
    "dataset = pd.read_csv(f\"D:\\\\Projects\\\\Jupyter_Lab\\\\Stock_market_predictor\\\\stock_prices_dataset\\\\Stocks_train_{today_date}.csv\")"
   ]
  },
  {
   "cell_type": "code",
   "execution_count": 4,
   "id": "cd44e5b9-73e9-4638-ad75-c6159cb351c0",
   "metadata": {},
   "outputs": [],
   "source": [
    "dataset_test = dataset.pivot(index='Date',columns='Stock',values='Close').reset_index()"
   ]
  },
  {
   "cell_type": "code",
   "execution_count": 5,
   "id": "9c1190ec-dcaa-4695-888c-7de4c0fc8372",
   "metadata": {},
   "outputs": [
    {
     "data": {
      "text/html": [
       "<div>\n",
       "<style scoped>\n",
       "    .dataframe tbody tr th:only-of-type {\n",
       "        vertical-align: middle;\n",
       "    }\n",
       "\n",
       "    .dataframe tbody tr th {\n",
       "        vertical-align: top;\n",
       "    }\n",
       "\n",
       "    .dataframe thead th {\n",
       "        text-align: right;\n",
       "    }\n",
       "</style>\n",
       "<table border=\"1\" class=\"dataframe\">\n",
       "  <thead>\n",
       "    <tr style=\"text-align: right;\">\n",
       "      <th>Stock</th>\n",
       "      <th>Date</th>\n",
       "      <th>ASHOKLEY</th>\n",
       "      <th>CANBK</th>\n",
       "      <th>LICI</th>\n",
       "      <th>ONGC</th>\n",
       "      <th>SBIN</th>\n",
       "    </tr>\n",
       "  </thead>\n",
       "  <tbody>\n",
       "    <tr>\n",
       "      <th>0</th>\n",
       "      <td>2022-06-06</td>\n",
       "      <td>138.35</td>\n",
       "      <td>210.30</td>\n",
       "      <td>777.40</td>\n",
       "      <td>154.00</td>\n",
       "      <td>463.55</td>\n",
       "    </tr>\n",
       "    <tr>\n",
       "      <th>1</th>\n",
       "      <td>2022-06-07</td>\n",
       "      <td>139.60</td>\n",
       "      <td>209.10</td>\n",
       "      <td>752.90</td>\n",
       "      <td>161.85</td>\n",
       "      <td>463.35</td>\n",
       "    </tr>\n",
       "    <tr>\n",
       "      <th>2</th>\n",
       "      <td>2022-06-08</td>\n",
       "      <td>138.50</td>\n",
       "      <td>210.95</td>\n",
       "      <td>738.00</td>\n",
       "      <td>163.35</td>\n",
       "      <td>471.05</td>\n",
       "    </tr>\n",
       "    <tr>\n",
       "      <th>3</th>\n",
       "      <td>2022-06-09</td>\n",
       "      <td>137.85</td>\n",
       "      <td>207.45</td>\n",
       "      <td>721.95</td>\n",
       "      <td>165.60</td>\n",
       "      <td>466.85</td>\n",
       "    </tr>\n",
       "    <tr>\n",
       "      <th>4</th>\n",
       "      <td>2022-06-10</td>\n",
       "      <td>137.80</td>\n",
       "      <td>208.05</td>\n",
       "      <td>709.70</td>\n",
       "      <td>164.60</td>\n",
       "      <td>461.80</td>\n",
       "    </tr>\n",
       "    <tr>\n",
       "      <th>...</th>\n",
       "      <td>...</td>\n",
       "      <td>...</td>\n",
       "      <td>...</td>\n",
       "      <td>...</td>\n",
       "      <td>...</td>\n",
       "      <td>...</td>\n",
       "    </tr>\n",
       "    <tr>\n",
       "      <th>732</th>\n",
       "      <td>2025-05-29</td>\n",
       "      <td>240.65</td>\n",
       "      <td>110.81</td>\n",
       "      <td>944.40</td>\n",
       "      <td>243.35</td>\n",
       "      <td>797.30</td>\n",
       "    </tr>\n",
       "    <tr>\n",
       "      <th>733</th>\n",
       "      <td>2025-05-30</td>\n",
       "      <td>236.00</td>\n",
       "      <td>114.82</td>\n",
       "      <td>953.55</td>\n",
       "      <td>239.45</td>\n",
       "      <td>812.40</td>\n",
       "    </tr>\n",
       "    <tr>\n",
       "      <th>734</th>\n",
       "      <td>2025-06-02</td>\n",
       "      <td>236.30</td>\n",
       "      <td>116.85</td>\n",
       "      <td>962.10</td>\n",
       "      <td>238.30</td>\n",
       "      <td>813.45</td>\n",
       "    </tr>\n",
       "    <tr>\n",
       "      <th>735</th>\n",
       "      <td>2025-06-03</td>\n",
       "      <td>236.05</td>\n",
       "      <td>115.85</td>\n",
       "      <td>953.80</td>\n",
       "      <td>237.20</td>\n",
       "      <td>809.75</td>\n",
       "    </tr>\n",
       "    <tr>\n",
       "      <th>736</th>\n",
       "      <td>2025-06-04</td>\n",
       "      <td>235.50</td>\n",
       "      <td>117.30</td>\n",
       "      <td>953.10</td>\n",
       "      <td>NaN</td>\n",
       "      <td>NaN</td>\n",
       "    </tr>\n",
       "  </tbody>\n",
       "</table>\n",
       "<p>737 rows × 6 columns</p>\n",
       "</div>"
      ],
      "text/plain": [
       "Stock        Date  ASHOKLEY   CANBK    LICI    ONGC    SBIN\n",
       "0      2022-06-06    138.35  210.30  777.40  154.00  463.55\n",
       "1      2022-06-07    139.60  209.10  752.90  161.85  463.35\n",
       "2      2022-06-08    138.50  210.95  738.00  163.35  471.05\n",
       "3      2022-06-09    137.85  207.45  721.95  165.60  466.85\n",
       "4      2022-06-10    137.80  208.05  709.70  164.60  461.80\n",
       "..            ...       ...     ...     ...     ...     ...\n",
       "732    2025-05-29    240.65  110.81  944.40  243.35  797.30\n",
       "733    2025-05-30    236.00  114.82  953.55  239.45  812.40\n",
       "734    2025-06-02    236.30  116.85  962.10  238.30  813.45\n",
       "735    2025-06-03    236.05  115.85  953.80  237.20  809.75\n",
       "736    2025-06-04    235.50  117.30  953.10     NaN     NaN\n",
       "\n",
       "[737 rows x 6 columns]"
      ]
     },
     "execution_count": 5,
     "metadata": {},
     "output_type": "execute_result"
    }
   ],
   "source": [
    "dataset_test"
   ]
  },
  {
   "cell_type": "code",
   "execution_count": 6,
   "id": "efc04bb9-b5bc-44fc-ab02-75bd16077fba",
   "metadata": {},
   "outputs": [],
   "source": [
    "dataset_test = dataset_test[dataset_test['Date']<today_date]"
   ]
  },
  {
   "cell_type": "code",
   "execution_count": 7,
   "id": "0176dbe2-dc13-44e8-87f7-b78ac33743f3",
   "metadata": {},
   "outputs": [],
   "source": [
    "# Feature Scaling\n",
    "num_cols = ['ASHOKLEY','CANBK','LICI','ONGC','SBIN']\n",
    "sc = joblib.load('D:\\\\Projects\\\\Jupyter_Lab\\\\Stock_market_predictor\\\\Stock_predictor_BSE_2025\\\\model_files\\\\min_max_scaler.joblib')\n",
    "test_data = sc.transform(dataset_test[num_cols])"
   ]
  },
  {
   "cell_type": "code",
   "execution_count": 8,
   "id": "9822458e-5d8b-46ba-81ef-23ad5f2562fe",
   "metadata": {},
   "outputs": [],
   "source": [
    "# Creating a data structure with 60 time steps and 1 output\n",
    "X_test = test_data[len(test_data)-60:len(test_data),:]"
   ]
  },
  {
   "cell_type": "code",
   "execution_count": 9,
   "id": "2294578f-7618-48c0-b9a0-ba38ee8b3069",
   "metadata": {},
   "outputs": [],
   "source": [
    "X_test = X_test.reshape(1,60,-1)"
   ]
  },
  {
   "cell_type": "markdown",
   "id": "a15815fe-0e77-4037-909c-4b9eb10c3cb7",
   "metadata": {},
   "source": [
    "# Load the model and predict"
   ]
  },
  {
   "cell_type": "code",
   "execution_count": 10,
   "id": "14c42884-ae2b-4e0f-a9d4-b53d568401da",
   "metadata": {},
   "outputs": [],
   "source": [
    "regressor_load = load_model('D:\\\\Projects\\\\Jupyter_Lab\\\\Stock_market_predictor\\\\Stock_predictor_BSE_2025\\\\model_files\\\\stock_predictor.keras')"
   ]
  },
  {
   "cell_type": "code",
   "execution_count": 11,
   "id": "a9e6dab4-953e-46b6-a736-da6d0178d336",
   "metadata": {},
   "outputs": [
    {
     "name": "stdout",
     "output_type": "stream",
     "text": [
      "\u001b[1m1/1\u001b[0m \u001b[32m━━━━━━━━━━━━━━━━━━━━\u001b[0m\u001b[37m\u001b[0m \u001b[1m1s\u001b[0m 1s/step\n"
     ]
    }
   ],
   "source": [
    "today_preds = regressor_load.predict(X_test)\n",
    "today_preds = sc.inverse_transform(today_preds)"
   ]
  },
  {
   "cell_type": "code",
   "execution_count": 12,
   "id": "1c02ac91-4e59-4a33-8485-d223f633ed75",
   "metadata": {},
   "outputs": [],
   "source": [
    "today_preds_pd = pd.DataFrame(today_preds,columns=num_cols)\n",
    "today_preds_pd['Date'] = today_date\n",
    "today_preds_pd = today_preds_pd[['Date']+num_cols]"
   ]
  },
  {
   "cell_type": "code",
   "execution_count": 13,
   "id": "0cf83bc6-5aea-4719-b575-1f62c156cf75",
   "metadata": {},
   "outputs": [
    {
     "data": {
      "text/html": [
       "<div>\n",
       "<style scoped>\n",
       "    .dataframe tbody tr th:only-of-type {\n",
       "        vertical-align: middle;\n",
       "    }\n",
       "\n",
       "    .dataframe tbody tr th {\n",
       "        vertical-align: top;\n",
       "    }\n",
       "\n",
       "    .dataframe thead th {\n",
       "        text-align: right;\n",
       "    }\n",
       "</style>\n",
       "<table border=\"1\" class=\"dataframe\">\n",
       "  <thead>\n",
       "    <tr style=\"text-align: right;\">\n",
       "      <th></th>\n",
       "      <th>Date</th>\n",
       "      <th>ASHOKLEY</th>\n",
       "      <th>CANBK</th>\n",
       "      <th>LICI</th>\n",
       "      <th>ONGC</th>\n",
       "      <th>SBIN</th>\n",
       "    </tr>\n",
       "  </thead>\n",
       "  <tbody>\n",
       "    <tr>\n",
       "      <th>0</th>\n",
       "      <td>2025-06-04</td>\n",
       "      <td>229.864838</td>\n",
       "      <td>114.790794</td>\n",
       "      <td>941.679077</td>\n",
       "      <td>251.472214</td>\n",
       "      <td>808.377441</td>\n",
       "    </tr>\n",
       "  </tbody>\n",
       "</table>\n",
       "</div>"
      ],
      "text/plain": [
       "         Date    ASHOKLEY       CANBK        LICI        ONGC        SBIN\n",
       "0  2025-06-04  229.864838  114.790794  941.679077  251.472214  808.377441"
      ]
     },
     "execution_count": 13,
     "metadata": {},
     "output_type": "execute_result"
    }
   ],
   "source": [
    "today_preds_pd"
   ]
  },
  {
   "cell_type": "code",
   "execution_count": 16,
   "id": "ae846ef1-dd31-4f1a-83c6-1d33af2cd1a1",
   "metadata": {},
   "outputs": [],
   "source": [
    "today_preds_pd.to_csv(f\"D:\\\\Projects\\\\Jupyter_Lab\\\\Stock_market_predictor\\\\stock_prices_predictions\\\\Predictions_{today_date}.csv\",index=False)"
   ]
  },
  {
   "cell_type": "code",
   "execution_count": null,
   "id": "ce0d8d16-2f53-45db-b416-b2dc49ddaf52",
   "metadata": {},
   "outputs": [],
   "source": []
  }
 ],
 "metadata": {
  "kernelspec": {
   "display_name": "Python 3 (ipykernel)",
   "language": "python",
   "name": "python3"
  },
  "language_info": {
   "codemirror_mode": {
    "name": "ipython",
    "version": 3
   },
   "file_extension": ".py",
   "mimetype": "text/x-python",
   "name": "python",
   "nbconvert_exporter": "python",
   "pygments_lexer": "ipython3",
   "version": "3.12.10"
  }
 },
 "nbformat": 4,
 "nbformat_minor": 5
}
