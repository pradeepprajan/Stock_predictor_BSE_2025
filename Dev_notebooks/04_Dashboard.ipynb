{
 "cells": [
  {
   "cell_type": "markdown",
   "id": "069cea04-6b00-4c04-80a3-9c35a47fdefe",
   "metadata": {},
   "source": [
    "# Importing the necessary libraries"
   ]
  },
  {
   "cell_type": "code",
   "execution_count": 3,
   "id": "d7cbf0ba-0142-440f-b589-77ee94a97af0",
   "metadata": {},
   "outputs": [],
   "source": [
    "from dash import Dash, html, dcc, callback, Output, Input\n",
    "import dash_bootstrap_components as dbc\n",
    "import pandas as pd\n",
    "import plotly.graph_objs as go\n",
    "from datetime import datetime,date\n",
    "from dash.dependencies import Output, Input\n",
    "import subprocess\n",
    "from dateutil.relativedelta import relativedelta"
   ]
  },
  {
   "cell_type": "markdown",
   "id": "cca519dd-311d-4434-ac1c-382ccef8c459",
   "metadata": {},
   "source": [
    "# Importing the predictions dataset"
   ]
  },
  {
   "cell_type": "code",
   "execution_count": 4,
   "id": "0bc3c64c-0073-4d05-91a5-b1dd91ab902a",
   "metadata": {},
   "outputs": [],
   "source": [
    "today_date = date.today().strftime(\"%Y-%m-%d\")\n",
    "yesterday_date = (date.today()+relativedelta(days=-1)).strftime(\"%Y-%m-%d\")\n",
    "today_prediction = pd.read_csv(f\"D:\\\\Projects\\\\Jupyter_Lab\\\\Stock_market_predictor\\\\stock_prices_predictions\\\\Predictions_{today_date}.csv\")"
   ]
  },
  {
   "cell_type": "code",
   "execution_count": 5,
   "id": "fea47cd6-dd28-4ff2-b86c-afdfc52e67c5",
   "metadata": {},
   "outputs": [],
   "source": [
    "past_prices = pd.read_csv(f\"D:\\\\Projects\\\\Jupyter_Lab\\\\Stock_market_predictor\\\\stock_prices_dataset\\\\candle_stick\\\\Stocks_data_{today_date}.csv\")\n",
    "past_prices = past_prices[past_prices['Date']<today_date]"
   ]
  },
  {
   "cell_type": "code",
   "execution_count": 6,
   "id": "0a5d4af7-59c6-4945-8734-265df31d895e",
   "metadata": {},
   "outputs": [],
   "source": [
    "color_map = {'⯅':'green','⯆':'red'}\n",
    "if float(today_prediction.loc[:,'ASHOKLEY'].values[0]) >= float(past_prices.loc[(past_prices['Stock']=='ASHOKLEY')&(past_prices['Date']==yesterday_date),'Close'].values[0]):\n",
    "    default_trend = '⯅'\n",
    "    default_color = 'green'\n",
    "else:\n",
    "    default_trend = '⯆'\n",
    "    default_color = 'red'"
   ]
  },
  {
   "cell_type": "markdown",
   "id": "30b7a9f1-246b-4b31-8bf2-6ed7df4b611b",
   "metadata": {},
   "source": [
    "# Creating the dashboard"
   ]
  },
  {
   "cell_type": "code",
   "execution_count": 7,
   "id": "b085b596-9278-4840-a614-5ef3e6d03fa7",
   "metadata": {},
   "outputs": [
    {
     "data": {
      "text/html": [
       "\n",
       "        <iframe\n",
       "            width=\"100%\"\n",
       "            height=\"650\"\n",
       "            src=\"http://127.0.0.1:8050/\"\n",
       "            frameborder=\"0\"\n",
       "            allowfullscreen\n",
       "            \n",
       "        ></iframe>\n",
       "        "
      ],
      "text/plain": [
       "<IPython.lib.display.IFrame at 0x23639dff8f0>"
      ]
     },
     "metadata": {},
     "output_type": "display_data"
    }
   ],
   "source": [
    "app = Dash(__name__,external_stylesheets=[dbc.themes.COSMO])\n",
    "server = app.server\n",
    "stocks = ['ASHOKLEY','CANBK','LICI','ONGC','SBIN']\n",
    "option_list = []\n",
    "\n",
    "for stock in stocks:\n",
    "    params = {'label':stock,'value':stock}\n",
    "    option_list.append(params)\n",
    "    \n",
    "dropdown = html.Div([\n",
    "    html.Label('Select the stock in BSE which you want to analyze',style={'display':'block','fontSize':15,'marginLeft':10}),\n",
    "    dcc.Dropdown(\n",
    "        id = 'stock',\n",
    "        options = option_list,\n",
    "        value = 'ASHOKLEY',\n",
    "        clearable = False,\n",
    "        style = {'marginLeft' : 10, 'marginRight' : 20}\n",
    "    )\n",
    "])\n",
    "button =  html.Div([\n",
    "    html.Button('Recalibrate model',id='recalibrate',style={'marginLeft': 10, 'marginRight': 20})\n",
    "])\n",
    "\n",
    "app.layout = html.Div(\n",
    "    [\n",
    "        dbc.Row([\n",
    "            dbc.Col((html.H1('STOCK MARKET PREDICTOR',\n",
    "                            style={'textAlign':'center','color':'white','marginTop':90})), width=12)\n",
    "                    ],style={'background-color':'indigo','marginBottom':20,'height':200}),\n",
    "        html.Div(\n",
    "        [\n",
    "            dbc.Row([\n",
    "                dbc.Col(dropdown, width=12)\n",
    "            ],style={'marginBottom':20}),\n",
    "            dbc.Row([\n",
    "                dbc.Col(html.H3('Historical trends'))\n",
    "            ],style={'marginBottom':5}),\n",
    "            dbc.Row([\n",
    "                dbc.Col(dcc.Graph(id='candlestick-chart',figure={},config={'displayModeBar':False}))\n",
    "            ],style={'marginBottom':10,'marginTop':10}),\n",
    "            dbc.Row([\n",
    "                dbc.Col(html.H5('Expected price today'),width=3),\n",
    "                dbc.Col(id='prediction',children = html.H3(id='predicted-price',children=f'{float(today_prediction.loc[:,'ASHOKLEY'].values[0])} {default_trend}'),width=3,style={'color':default_color})\n",
    "            ],style={'marginBottom':40}),\n",
    "            dbc.Row([\n",
    "                dbc.Col(html.H5('Click the button to recalibrate stock predictor'),width=5),\n",
    "                dbc.Col(button),\n",
    "                html.Div([\n",
    "                    dcc.ConfirmDialog(\n",
    "                        id = 'recalib-msg',\n",
    "                        message = 'Recalibration done successfully')\n",
    "            ])\n",
    "        ])\n",
    "    ]\n",
    ")\n",
    "\n",
    "@app.callback(\n",
    "    Output(component_id='predicted-price', component_property='children'),\n",
    "    Output(component_id='prediction', component_property='style'),\n",
    "    Output(component_id='candlestick-chart', component_property='figure'),\n",
    "    [Input(component_id='stock', component_property='value')]\n",
    ")\n",
    "def candlestick_chart(stock):\n",
    "    past_prices_stock = past_prices[past_prices['Stock']==stock]\n",
    "    fig = go.Figure()\n",
    "    fig.add_trace(go.Candlestick(x=pd.to_datetime(past_prices_stock['Date']),open=past_prices_stock['Open'],high=past_prices_stock['High'],\n",
    "                             low=past_prices_stock['Low'],close=past_prices_stock['Close'],increasing=dict(line=dict(color='blue')),\n",
    "                             decreasing=dict(line=dict(color='red')),name='Past_prices'))\n",
    "    fig.update_layout(\n",
    "    margin=dict(l=20, r=20, t=20, b=20),\n",
    "    )\n",
    "    predicted_prices_stock = float(today_prediction.loc[:,stock].values[0])\n",
    "    if float(today_prediction.loc[:,stock].values[0]) >= float(past_prices.loc[(past_prices['Stock']==stock)&(past_prices['Date']==yesterday_date),'Close'].values[0]):\n",
    "        trend = '⯅'\n",
    "        color = 'green'\n",
    "    else:\n",
    "        trend = '⯆'\n",
    "        color = 'red'\n",
    "    return f'{predicted_prices_stock} {trend}',{'color':color},fig\n",
    "\n",
    "@app.callback(\n",
    "    Output(component_id='recalib-msg', component_property='message'),\n",
    "    [Input(component_id='recalibrate', component_property='n_clicks')]\n",
    ")\n",
    "def retrain_model(n_clicks):\n",
    "    subprocess.run(['python','02_Model_training.py'])\n",
    "    return \"Recalibration done successfully\"\n",
    "\n",
    "if __name__ == '__main__':\n",
    "    app.run(debug=True)"
   ]
  },
  {
   "cell_type": "code",
   "execution_count": null,
   "id": "40c6db2a-5aa7-4ba4-bbe7-1ca2b50140af",
   "metadata": {},
   "outputs": [],
   "source": []
  }
 ],
 "metadata": {
  "kernelspec": {
   "display_name": "Python 3 (ipykernel)",
   "language": "python",
   "name": "python3"
  },
  "language_info": {
   "codemirror_mode": {
    "name": "ipython",
    "version": 3
   },
   "file_extension": ".py",
   "mimetype": "text/x-python",
   "name": "python",
   "nbconvert_exporter": "python",
   "pygments_lexer": "ipython3",
   "version": "3.12.10"
  }
 },
 "nbformat": 4,
 "nbformat_minor": 5
}
