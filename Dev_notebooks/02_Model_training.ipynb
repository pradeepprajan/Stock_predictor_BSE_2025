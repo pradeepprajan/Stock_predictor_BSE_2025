{
 "cells": [
  {
   "cell_type": "markdown",
   "id": "ffcc97a3-b58d-4f9d-8019-7198bc7060dd",
   "metadata": {},
   "source": [
    "# Importing the necessary libraries"
   ]
  },
  {
   "cell_type": "code",
   "execution_count": 1,
   "id": "5a917729-5ba2-4664-8833-72e8d851d9a2",
   "metadata": {},
   "outputs": [],
   "source": [
    "import pandas as pd\n",
    "import numpy as np\n",
    "from sklearn.preprocessing import MinMaxScaler\n",
    "from keras.models import Sequential\n",
    "from keras.layers import Dense\n",
    "from keras.layers import GRU\n",
    "from keras.layers import Dropout\n",
    "from keras.callbacks import EarlyStopping\n",
    "from keras.models import load_model\n",
    "import matplotlib.pyplot as plt\n",
    "import joblib"
   ]
  },
  {
   "cell_type": "markdown",
   "id": "7b74e2b4-e19c-41ef-85be-865e45faf2d1",
   "metadata": {},
   "source": [
    "# Reading and preprocessing of dataset"
   ]
  },
  {
   "cell_type": "code",
   "execution_count": 2,
   "id": "a9a44588-c65c-472b-83a6-35886c6fdc9a",
   "metadata": {},
   "outputs": [],
   "source": [
    "num_cols = ['ASHOKLEY','CANBK','LICI','ONGC','SBIN']\n",
    "today_date = date.today().strftime(\"%Y-%m-%d\")"
   ]
  },
  {
   "cell_type": "code",
   "execution_count": 3,
   "id": "3f9d31d9-7826-477c-897f-b5d09e628178",
   "metadata": {},
   "outputs": [],
   "source": [
    "dataset = pd.read_csv(f\"D:\\\\Projects\\\\Jupyter_Lab\\\\Stock_market_predictor\\\\stock_prices_dataset\\\\Stocks_train_{today_date}.csv\")"
   ]
  },
  {
   "cell_type": "code",
   "execution_count": 5,
   "id": "0ec8ebbb-6ede-4fe0-94a1-e7f027becc4c",
   "metadata": {},
   "outputs": [
    {
     "data": {
      "text/html": [
       "<div>\n",
       "<style scoped>\n",
       "    .dataframe tbody tr th:only-of-type {\n",
       "        vertical-align: middle;\n",
       "    }\n",
       "\n",
       "    .dataframe tbody tr th {\n",
       "        vertical-align: top;\n",
       "    }\n",
       "\n",
       "    .dataframe thead th {\n",
       "        text-align: right;\n",
       "    }\n",
       "</style>\n",
       "<table border=\"1\" class=\"dataframe\">\n",
       "  <thead>\n",
       "    <tr style=\"text-align: right;\">\n",
       "      <th>Stock</th>\n",
       "      <th>Date</th>\n",
       "      <th>ASHOKLEY</th>\n",
       "      <th>CANBK</th>\n",
       "      <th>LICI</th>\n",
       "      <th>ONGC</th>\n",
       "      <th>SBIN</th>\n",
       "    </tr>\n",
       "  </thead>\n",
       "  <tbody>\n",
       "    <tr>\n",
       "      <th>0</th>\n",
       "      <td>2022-06-01</td>\n",
       "      <td>140.00</td>\n",
       "      <td>208.65</td>\n",
       "      <td>810.55</td>\n",
       "      <td>149.70</td>\n",
       "      <td>468.20</td>\n",
       "    </tr>\n",
       "    <tr>\n",
       "      <th>1</th>\n",
       "      <td>2022-06-02</td>\n",
       "      <td>143.45</td>\n",
       "      <td>213.50</td>\n",
       "      <td>805.85</td>\n",
       "      <td>152.50</td>\n",
       "      <td>469.75</td>\n",
       "    </tr>\n",
       "    <tr>\n",
       "      <th>2</th>\n",
       "      <td>2022-06-03</td>\n",
       "      <td>139.60</td>\n",
       "      <td>211.10</td>\n",
       "      <td>800.25</td>\n",
       "      <td>151.55</td>\n",
       "      <td>464.30</td>\n",
       "    </tr>\n",
       "    <tr>\n",
       "      <th>3</th>\n",
       "      <td>2022-06-06</td>\n",
       "      <td>138.35</td>\n",
       "      <td>210.30</td>\n",
       "      <td>777.40</td>\n",
       "      <td>154.00</td>\n",
       "      <td>463.55</td>\n",
       "    </tr>\n",
       "    <tr>\n",
       "      <th>4</th>\n",
       "      <td>2022-06-07</td>\n",
       "      <td>139.60</td>\n",
       "      <td>209.10</td>\n",
       "      <td>752.90</td>\n",
       "      <td>161.85</td>\n",
       "      <td>463.35</td>\n",
       "    </tr>\n",
       "    <tr>\n",
       "      <th>...</th>\n",
       "      <td>...</td>\n",
       "      <td>...</td>\n",
       "      <td>...</td>\n",
       "      <td>...</td>\n",
       "      <td>...</td>\n",
       "      <td>...</td>\n",
       "    </tr>\n",
       "    <tr>\n",
       "      <th>732</th>\n",
       "      <td>2025-05-26</td>\n",
       "      <td>239.85</td>\n",
       "      <td>107.45</td>\n",
       "      <td>870.00</td>\n",
       "      <td>245.80</td>\n",
       "      <td>794.35</td>\n",
       "    </tr>\n",
       "    <tr>\n",
       "      <th>733</th>\n",
       "      <td>2025-05-27</td>\n",
       "      <td>239.55</td>\n",
       "      <td>108.44</td>\n",
       "      <td>871.05</td>\n",
       "      <td>244.55</td>\n",
       "      <td>793.80</td>\n",
       "    </tr>\n",
       "    <tr>\n",
       "      <th>734</th>\n",
       "      <td>2025-05-28</td>\n",
       "      <td>238.50</td>\n",
       "      <td>110.88</td>\n",
       "      <td>942.55</td>\n",
       "      <td>242.70</td>\n",
       "      <td>796.45</td>\n",
       "    </tr>\n",
       "    <tr>\n",
       "      <th>735</th>\n",
       "      <td>2025-05-29</td>\n",
       "      <td>240.65</td>\n",
       "      <td>110.81</td>\n",
       "      <td>944.40</td>\n",
       "      <td>243.35</td>\n",
       "      <td>797.30</td>\n",
       "    </tr>\n",
       "    <tr>\n",
       "      <th>736</th>\n",
       "      <td>2025-05-30</td>\n",
       "      <td>236.00</td>\n",
       "      <td>114.82</td>\n",
       "      <td>953.55</td>\n",
       "      <td>239.45</td>\n",
       "      <td>812.40</td>\n",
       "    </tr>\n",
       "  </tbody>\n",
       "</table>\n",
       "<p>737 rows × 6 columns</p>\n",
       "</div>"
      ],
      "text/plain": [
       "Stock        Date  ASHOKLEY   CANBK    LICI    ONGC    SBIN\n",
       "0      2022-06-01    140.00  208.65  810.55  149.70  468.20\n",
       "1      2022-06-02    143.45  213.50  805.85  152.50  469.75\n",
       "2      2022-06-03    139.60  211.10  800.25  151.55  464.30\n",
       "3      2022-06-06    138.35  210.30  777.40  154.00  463.55\n",
       "4      2022-06-07    139.60  209.10  752.90  161.85  463.35\n",
       "..            ...       ...     ...     ...     ...     ...\n",
       "732    2025-05-26    239.85  107.45  870.00  245.80  794.35\n",
       "733    2025-05-27    239.55  108.44  871.05  244.55  793.80\n",
       "734    2025-05-28    238.50  110.88  942.55  242.70  796.45\n",
       "735    2025-05-29    240.65  110.81  944.40  243.35  797.30\n",
       "736    2025-05-30    236.00  114.82  953.55  239.45  812.40\n",
       "\n",
       "[737 rows x 6 columns]"
      ]
     },
     "metadata": {},
     "output_type": "display_data"
    }
   ],
   "source": [
    "# Pivot with stock column\n",
    "dataset_train = dataset.pivot(index='Date',columns='Stock',values='Close').reset_index()"
   ]
  },
  {
   "cell_type": "code",
   "execution_count": 6,
   "id": "45795255-392f-4ace-8fb3-1cedcf2b4699",
   "metadata": {
    "scrolled": true
   },
   "outputs": [],
   "source": [
    "# Feature Scaling\n",
    "sc = MinMaxScaler(feature_range=(0,1))\n",
    "train_data = sc.fit_transform(dataset_train[num_cols])"
   ]
  },
  {
   "cell_type": "code",
   "execution_count": 8,
   "id": "611cbae3-ef44-4a2b-bf11-40559b0a9851",
   "metadata": {},
   "outputs": [],
   "source": [
    "# Creating a data structure with 60 time steps and 1 output\n",
    "X_train = []\n",
    "y_train = []\n",
    "for i in range(60,len(train_data)):\n",
    "    X_train.append(train_data[i-60:i,:])\n",
    "    y_train.append(train_data[i,:])\n",
    "X_train, y_train = np.array(X_train), np.array(y_train)"
   ]
  },
  {
   "cell_type": "code",
   "execution_count": 10,
   "id": "ca183b77-d28b-4405-99b5-10f11e2a88d9",
   "metadata": {},
   "outputs": [
    {
     "data": {
      "text/plain": [
       "['D:\\\\Projects\\\\Jupyter_Lab\\\\Stock_market_predictor\\\\Stock_predictor_BSE_2025\\\\model_files\\\\min_max_scaler.joblib']"
      ]
     },
     "execution_count": 10,
     "metadata": {},
     "output_type": "execute_result"
    }
   ],
   "source": [
    "# Saving min max scaler file\n",
    "joblib.dump(sc,'D:\\\\Projects\\\\Jupyter_Lab\\\\Stock_market_predictor\\\\Stock_predictor_BSE_2025\\\\model_files\\\\min_max_scaler.joblib')"
   ]
  },
  {
   "cell_type": "markdown",
   "id": "9d05d862-f581-42a7-8399-be80368f3307",
   "metadata": {},
   "source": [
    "# Training of GRU model"
   ]
  },
  {
   "cell_type": "code",
   "execution_count": 34,
   "id": "3fd679a8-4b51-4c7c-adf8-6dcd2b8f1566",
   "metadata": {},
   "outputs": [],
   "source": [
    "regressor = Sequential()\n",
    "\n",
    "regressor.add(GRU(units=200,activation='relu',return_sequences=True,input_shape=(X_train.shape[1],X_train.shape[2])))\n",
    "regressor.add(Dropout(0.05))\n",
    "\n",
    "\"\"\"regressor.add(GRU(units=118,activation='relu', return_sequences=True))\n",
    "regressor.add(Dropout(0.2))\n",
    "\n",
    "regressor.add(GRU(units=118,activation='relu', return_sequences=True))\n",
    "regressor.add(Dropout(0.2))\n",
    "\n",
    "regressor.add(GRU(units=150,activation='relu', return_sequences=True))\n",
    "regressor.add(Dropout(0.2))\"\"\"\n",
    "\n",
    "regressor.add(GRU(units=200,activation='relu'))\n",
    "regressor.add(Dropout(0.05))\n",
    "\n",
    "regressor.add(Dense(units=X_train.shape[2]))\n",
    "\n",
    "regressor.compile(optimizer='adam',loss='mean_squared_error',metrics=['accuracy'])"
   ]
  },
  {
   "cell_type": "code",
   "execution_count": 36,
   "id": "7563edac-d700-4057-b172-1d744a273ea8",
   "metadata": {
    "scrolled": true
   },
   "outputs": [
    {
     "name": "stdout",
     "output_type": "stream",
     "text": [
      "Epoch 1/50\n",
      "\u001b[1m6/6\u001b[0m \u001b[32m━━━━━━━━━━━━━━━━━━━━\u001b[0m\u001b[37m\u001b[0m \u001b[1m7s\u001b[0m 541ms/step - accuracy: 0.0800 - loss: 0.1909 - val_accuracy: 0.7794 - val_loss: 0.0871\n",
      "Epoch 2/50\n",
      "\u001b[1m6/6\u001b[0m \u001b[32m━━━━━━━━━━━━━━━━━━━━\u001b[0m\u001b[37m\u001b[0m \u001b[1m2s\u001b[0m 389ms/step - accuracy: 0.1007 - loss: 0.0453 - val_accuracy: 0.7794 - val_loss: 0.0340\n",
      "Epoch 3/50\n",
      "\u001b[1m6/6\u001b[0m \u001b[32m━━━━━━━━━━━━━━━━━━━━\u001b[0m\u001b[37m\u001b[0m \u001b[1m3s\u001b[0m 474ms/step - accuracy: 0.4717 - loss: 0.0212 - val_accuracy: 0.2206 - val_loss: 0.0230\n",
      "Epoch 4/50\n",
      "\u001b[1m6/6\u001b[0m \u001b[32m━━━━━━━━━━━━━━━━━━━━\u001b[0m\u001b[37m\u001b[0m \u001b[1m2s\u001b[0m 377ms/step - accuracy: 0.7815 - loss: 0.0174 - val_accuracy: 0.5368 - val_loss: 0.0122\n",
      "Epoch 5/50\n",
      "\u001b[1m6/6\u001b[0m \u001b[32m━━━━━━━━━━━━━━━━━━━━\u001b[0m\u001b[37m\u001b[0m \u001b[1m3s\u001b[0m 456ms/step - accuracy: 0.8204 - loss: 0.0087 - val_accuracy: 0.7794 - val_loss: 0.0143\n",
      "Epoch 6/50\n",
      "\u001b[1m6/6\u001b[0m \u001b[32m━━━━━━━━━━━━━━━━━━━━\u001b[0m\u001b[37m\u001b[0m \u001b[1m3s\u001b[0m 443ms/step - accuracy: 0.8616 - loss: 0.0080 - val_accuracy: 0.2206 - val_loss: 0.0097\n",
      "Epoch 7/50\n",
      "\u001b[1m6/6\u001b[0m \u001b[32m━━━━━━━━━━━━━━━━━━━━\u001b[0m\u001b[37m\u001b[0m \u001b[1m2s\u001b[0m 413ms/step - accuracy: 0.8327 - loss: 0.0068 - val_accuracy: 0.2206 - val_loss: 0.0075\n",
      "Epoch 8/50\n",
      "\u001b[1m6/6\u001b[0m \u001b[32m━━━━━━━━━━━━━━━━━━━━\u001b[0m\u001b[37m\u001b[0m \u001b[1m3s\u001b[0m 450ms/step - accuracy: 0.8450 - loss: 0.0055 - val_accuracy: 0.7794 - val_loss: 0.0069\n",
      "Epoch 9/50\n",
      "\u001b[1m6/6\u001b[0m \u001b[32m━━━━━━━━━━━━━━━━━━━━\u001b[0m\u001b[37m\u001b[0m \u001b[1m2s\u001b[0m 394ms/step - accuracy: 0.8904 - loss: 0.0053 - val_accuracy: 0.8015 - val_loss: 0.0066\n",
      "Epoch 10/50\n",
      "\u001b[1m6/6\u001b[0m \u001b[32m━━━━━━━━━━━━━━━━━━━━\u001b[0m\u001b[37m\u001b[0m \u001b[1m3s\u001b[0m 486ms/step - accuracy: 0.8553 - loss: 0.0044 - val_accuracy: 0.6691 - val_loss: 0.0068\n",
      "Epoch 11/50\n",
      "\u001b[1m6/6\u001b[0m \u001b[32m━━━━━━━━━━━━━━━━━━━━\u001b[0m\u001b[37m\u001b[0m \u001b[1m2s\u001b[0m 396ms/step - accuracy: 0.8481 - loss: 0.0045 - val_accuracy: 0.2353 - val_loss: 0.0062\n",
      "Epoch 12/50\n",
      "\u001b[1m6/6\u001b[0m \u001b[32m━━━━━━━━━━━━━━━━━━━━\u001b[0m\u001b[37m\u001b[0m \u001b[1m3s\u001b[0m 479ms/step - accuracy: 0.8610 - loss: 0.0040 - val_accuracy: 0.6544 - val_loss: 0.0058\n",
      "Epoch 13/50\n",
      "\u001b[1m6/6\u001b[0m \u001b[32m━━━━━━━━━━━━━━━━━━━━\u001b[0m\u001b[37m\u001b[0m \u001b[1m2s\u001b[0m 391ms/step - accuracy: 0.8538 - loss: 0.0038 - val_accuracy: 0.2721 - val_loss: 0.0054\n",
      "Epoch 14/50\n",
      "\u001b[1m6/6\u001b[0m \u001b[32m━━━━━━━━━━━━━━━━━━━━\u001b[0m\u001b[37m\u001b[0m \u001b[1m3s\u001b[0m 494ms/step - accuracy: 0.8787 - loss: 0.0036 - val_accuracy: 0.4926 - val_loss: 0.0059\n",
      "Epoch 15/50\n",
      "\u001b[1m6/6\u001b[0m \u001b[32m━━━━━━━━━━━━━━━━━━━━\u001b[0m\u001b[37m\u001b[0m \u001b[1m2s\u001b[0m 393ms/step - accuracy: 0.8561 - loss: 0.0033 - val_accuracy: 0.4706 - val_loss: 0.0057\n",
      "Epoch 16/50\n",
      "\u001b[1m6/6\u001b[0m \u001b[32m━━━━━━━━━━━━━━━━━━━━\u001b[0m\u001b[37m\u001b[0m \u001b[1m3s\u001b[0m 485ms/step - accuracy: 0.8915 - loss: 0.0032 - val_accuracy: 0.5735 - val_loss: 0.0049\n",
      "Epoch 17/50\n",
      "\u001b[1m6/6\u001b[0m \u001b[32m━━━━━━━━━━━━━━━━━━━━\u001b[0m\u001b[37m\u001b[0m \u001b[1m2s\u001b[0m 392ms/step - accuracy: 0.8561 - loss: 0.0033 - val_accuracy: 0.6691 - val_loss: 0.0046\n",
      "Epoch 18/50\n",
      "\u001b[1m6/6\u001b[0m \u001b[32m━━━━━━━━━━━━━━━━━━━━\u001b[0m\u001b[37m\u001b[0m \u001b[1m3s\u001b[0m 431ms/step - accuracy: 0.9064 - loss: 0.0031 - val_accuracy: 0.7206 - val_loss: 0.0049\n",
      "Epoch 19/50\n",
      "\u001b[1m6/6\u001b[0m \u001b[32m━━━━━━━━━━━━━━━━━━━━\u001b[0m\u001b[37m\u001b[0m \u001b[1m3s\u001b[0m 426ms/step - accuracy: 0.8967 - loss: 0.0028 - val_accuracy: 0.4706 - val_loss: 0.0048\n",
      "Epoch 20/50\n",
      "\u001b[1m6/6\u001b[0m \u001b[32m━━━━━━━━━━━━━━━━━━━━\u001b[0m\u001b[37m\u001b[0m \u001b[1m2s\u001b[0m 395ms/step - accuracy: 0.8962 - loss: 0.0027 - val_accuracy: 0.6103 - val_loss: 0.0040\n",
      "Epoch 21/50\n",
      "\u001b[1m6/6\u001b[0m \u001b[32m━━━━━━━━━━━━━━━━━━━━\u001b[0m\u001b[37m\u001b[0m \u001b[1m3s\u001b[0m 430ms/step - accuracy: 0.8629 - loss: 0.0025 - val_accuracy: 0.6912 - val_loss: 0.0048\n",
      "Epoch 22/50\n",
      "\u001b[1m6/6\u001b[0m \u001b[32m━━━━━━━━━━━━━━━━━━━━\u001b[0m\u001b[37m\u001b[0m \u001b[1m2s\u001b[0m 384ms/step - accuracy: 0.8580 - loss: 0.0027 - val_accuracy: 0.5662 - val_loss: 0.0042\n",
      "Epoch 23/50\n",
      "\u001b[1m6/6\u001b[0m \u001b[32m━━━━━━━━━━━━━━━━━━━━\u001b[0m\u001b[37m\u001b[0m \u001b[1m3s\u001b[0m 479ms/step - accuracy: 0.8948 - loss: 0.0025 - val_accuracy: 0.6471 - val_loss: 0.0043\n",
      "Epoch 24/50\n",
      "\u001b[1m6/6\u001b[0m \u001b[32m━━━━━━━━━━━━━━━━━━━━\u001b[0m\u001b[37m\u001b[0m \u001b[1m3s\u001b[0m 452ms/step - accuracy: 0.8869 - loss: 0.0025 - val_accuracy: 0.7426 - val_loss: 0.0047\n",
      "Epoch 25/50\n",
      "\u001b[1m6/6\u001b[0m \u001b[32m━━━━━━━━━━━━━━━━━━━━\u001b[0m\u001b[37m\u001b[0m \u001b[1m2s\u001b[0m 425ms/step - accuracy: 0.9118 - loss: 0.0024 - val_accuracy: 0.6544 - val_loss: 0.0040\n",
      "Epoch 26/50\n",
      "\u001b[1m6/6\u001b[0m \u001b[32m━━━━━━━━━━━━━━━━━━━━\u001b[0m\u001b[37m\u001b[0m \u001b[1m3s\u001b[0m 452ms/step - accuracy: 0.8759 - loss: 0.0026 - val_accuracy: 0.6765 - val_loss: 0.0043\n",
      "Epoch 27/50\n",
      "\u001b[1m6/6\u001b[0m \u001b[32m━━━━━━━━━━━━━━━━━━━━\u001b[0m\u001b[37m\u001b[0m \u001b[1m2s\u001b[0m 403ms/step - accuracy: 0.9278 - loss: 0.0020 - val_accuracy: 0.7721 - val_loss: 0.0041\n",
      "Epoch 28/50\n",
      "\u001b[1m6/6\u001b[0m \u001b[32m━━━━━━━━━━━━━━━━━━━━\u001b[0m\u001b[37m\u001b[0m \u001b[1m3s\u001b[0m 485ms/step - accuracy: 0.8838 - loss: 0.0022 - val_accuracy: 0.7794 - val_loss: 0.0047\n",
      "Epoch 29/50\n",
      "\u001b[1m6/6\u001b[0m \u001b[32m━━━━━━━━━━━━━━━━━━━━\u001b[0m\u001b[37m\u001b[0m \u001b[1m2s\u001b[0m 406ms/step - accuracy: 0.9222 - loss: 0.0023 - val_accuracy: 0.7868 - val_loss: 0.0037\n",
      "Epoch 30/50\n",
      "\u001b[1m6/6\u001b[0m \u001b[32m━━━━━━━━━━━━━━━━━━━━\u001b[0m\u001b[37m\u001b[0m \u001b[1m3s\u001b[0m 488ms/step - accuracy: 0.8988 - loss: 0.0026 - val_accuracy: 0.5221 - val_loss: 0.0039\n",
      "Epoch 31/50\n",
      "\u001b[1m6/6\u001b[0m \u001b[32m━━━━━━━━━━━━━━━━━━━━\u001b[0m\u001b[37m\u001b[0m \u001b[1m3s\u001b[0m 433ms/step - accuracy: 0.8932 - loss: 0.0024 - val_accuracy: 0.8015 - val_loss: 0.0037\n",
      "Epoch 32/50\n",
      "\u001b[1m6/6\u001b[0m \u001b[32m━━━━━━━━━━━━━━━━━━━━\u001b[0m\u001b[37m\u001b[0m \u001b[1m2s\u001b[0m 383ms/step - accuracy: 0.9304 - loss: 0.0021 - val_accuracy: 0.8750 - val_loss: 0.0036\n",
      "Epoch 33/50\n",
      "\u001b[1m6/6\u001b[0m \u001b[32m━━━━━━━━━━━━━━━━━━━━\u001b[0m\u001b[37m\u001b[0m \u001b[1m3s\u001b[0m 499ms/step - accuracy: 0.8981 - loss: 0.0024 - val_accuracy: 0.6691 - val_loss: 0.0038\n",
      "Epoch 34/50\n",
      "\u001b[1m6/6\u001b[0m \u001b[32m━━━━━━━━━━━━━━━━━━━━\u001b[0m\u001b[37m\u001b[0m \u001b[1m3s\u001b[0m 433ms/step - accuracy: 0.9046 - loss: 0.0020 - val_accuracy: 0.8088 - val_loss: 0.0032\n",
      "Epoch 35/50\n",
      "\u001b[1m6/6\u001b[0m \u001b[32m━━━━━━━━━━━━━━━━━━━━\u001b[0m\u001b[37m\u001b[0m \u001b[1m2s\u001b[0m 409ms/step - accuracy: 0.9180 - loss: 0.0023 - val_accuracy: 0.7941 - val_loss: 0.0036\n",
      "Epoch 36/50\n",
      "\u001b[1m6/6\u001b[0m \u001b[32m━━━━━━━━━━━━━━━━━━━━\u001b[0m\u001b[37m\u001b[0m \u001b[1m3s\u001b[0m 486ms/step - accuracy: 0.9470 - loss: 0.0023 - val_accuracy: 0.8529 - val_loss: 0.0031\n",
      "Epoch 37/50\n",
      "\u001b[1m6/6\u001b[0m \u001b[32m━━━━━━━━━━━━━━━━━━━━\u001b[0m\u001b[37m\u001b[0m \u001b[1m2s\u001b[0m 383ms/step - accuracy: 0.9204 - loss: 0.0020 - val_accuracy: 0.7868 - val_loss: 0.0033\n",
      "Epoch 38/50\n",
      "\u001b[1m6/6\u001b[0m \u001b[32m━━━━━━━━━━━━━━━━━━━━\u001b[0m\u001b[37m\u001b[0m \u001b[1m3s\u001b[0m 485ms/step - accuracy: 0.9122 - loss: 0.0020 - val_accuracy: 0.8971 - val_loss: 0.0035\n",
      "Epoch 39/50\n",
      "\u001b[1m6/6\u001b[0m \u001b[32m━━━━━━━━━━━━━━━━━━━━\u001b[0m\u001b[37m\u001b[0m \u001b[1m2s\u001b[0m 410ms/step - accuracy: 0.9364 - loss: 0.0019 - val_accuracy: 0.8088 - val_loss: 0.0027\n",
      "Epoch 40/50\n",
      "\u001b[1m6/6\u001b[0m \u001b[32m━━━━━━━━━━━━━━━━━━━━\u001b[0m\u001b[37m\u001b[0m \u001b[1m3s\u001b[0m 435ms/step - accuracy: 0.9165 - loss: 0.0018 - val_accuracy: 0.9044 - val_loss: 0.0028\n",
      "Epoch 41/50\n",
      "\u001b[1m6/6\u001b[0m \u001b[32m━━━━━━━━━━━━━━━━━━━━\u001b[0m\u001b[37m\u001b[0m \u001b[1m2s\u001b[0m 420ms/step - accuracy: 0.9058 - loss: 0.0018 - val_accuracy: 0.9044 - val_loss: 0.0030\n",
      "Epoch 42/50\n",
      "\u001b[1m6/6\u001b[0m \u001b[32m━━━━━━━━━━━━━━━━━━━━\u001b[0m\u001b[37m\u001b[0m \u001b[1m2s\u001b[0m 402ms/step - accuracy: 0.9280 - loss: 0.0018 - val_accuracy: 0.9044 - val_loss: 0.0027\n",
      "Epoch 43/50\n",
      "\u001b[1m6/6\u001b[0m \u001b[32m━━━━━━━━━━━━━━━━━━━━\u001b[0m\u001b[37m\u001b[0m \u001b[1m3s\u001b[0m 476ms/step - accuracy: 0.9244 - loss: 0.0020 - val_accuracy: 0.8971 - val_loss: 0.0026\n",
      "Epoch 44/50\n",
      "\u001b[1m6/6\u001b[0m \u001b[32m━━━━━━━━━━━━━━━━━━━━\u001b[0m\u001b[37m\u001b[0m \u001b[1m2s\u001b[0m 389ms/step - accuracy: 0.9283 - loss: 0.0016 - val_accuracy: 0.8897 - val_loss: 0.0029\n",
      "Epoch 45/50\n",
      "\u001b[1m6/6\u001b[0m \u001b[32m━━━━━━━━━━━━━━━━━━━━\u001b[0m\u001b[37m\u001b[0m \u001b[1m3s\u001b[0m 503ms/step - accuracy: 0.9099 - loss: 0.0018 - val_accuracy: 0.8750 - val_loss: 0.0024\n",
      "Epoch 46/50\n",
      "\u001b[1m6/6\u001b[0m \u001b[32m━━━━━━━━━━━━━━━━━━━━\u001b[0m\u001b[37m\u001b[0m \u001b[1m2s\u001b[0m 360ms/step - accuracy: 0.9174 - loss: 0.0017 - val_accuracy: 0.8456 - val_loss: 0.0031\n",
      "Epoch 47/50\n",
      "\u001b[1m6/6\u001b[0m \u001b[32m━━━━━━━━━━━━━━━━━━━━\u001b[0m\u001b[37m\u001b[0m \u001b[1m2s\u001b[0m 371ms/step - accuracy: 0.9225 - loss: 0.0017 - val_accuracy: 0.8750 - val_loss: 0.0027\n",
      "Epoch 48/50\n",
      "\u001b[1m6/6\u001b[0m \u001b[32m━━━━━━━━━━━━━━━━━━━━\u001b[0m\u001b[37m\u001b[0m \u001b[1m2s\u001b[0m 399ms/step - accuracy: 0.9111 - loss: 0.0019 - val_accuracy: 0.8824 - val_loss: 0.0026\n",
      "Epoch 49/50\n",
      "\u001b[1m6/6\u001b[0m \u001b[32m━━━━━━━━━━━━━━━━━━━━\u001b[0m\u001b[37m\u001b[0m \u001b[1m3s\u001b[0m 427ms/step - accuracy: 0.9577 - loss: 0.0018 - val_accuracy: 0.8824 - val_loss: 0.0028\n",
      "Epoch 50/50\n",
      "\u001b[1m6/6\u001b[0m \u001b[32m━━━━━━━━━━━━━━━━━━━━\u001b[0m\u001b[37m\u001b[0m \u001b[1m3s\u001b[0m 445ms/step - accuracy: 0.9482 - loss: 0.0017 - val_accuracy: 0.8971 - val_loss: 0.0024\n"
     ]
    }
   ],
   "source": [
    "history = regressor.fit(X_train,y_train,epochs=50, batch_size=100,validation_split=0.2)"
   ]
  },
  {
   "cell_type": "markdown",
   "id": "78e09527-4577-4f34-8f71-392ea6b0500b",
   "metadata": {},
   "source": [
    "# Plotting loss and accuracy curves"
   ]
  },
  {
   "cell_type": "code",
   "execution_count": 37,
   "id": "3a63e33d-f41b-496f-8bdd-b1d17a359e47",
   "metadata": {},
   "outputs": [
    {
     "data": {
      "image/png": "[encoded data removed]",
      "text/plain": [
       "<Figure size 640x480 with 1 Axes>"
      ]
     },
     "metadata": {},
     "output_type": "display_data"
    }
   ],
   "source": [
    "plt.plot(history.history['loss'])\n",
    "plt.plot(history.history['val_loss'])\n",
    "plt.title('Loss curve')\n",
    "plt.xlabel('Epoch')\n",
    "plt.ylabel('Loss')\n",
    "plt.legend(['Train','Validation'])\n",
    "plt.savefig(f\"D:\\\\Projects\\\\Jupyter_Lab\\\\Stock_market_predictor\\\\loss_curves\\\\loss_curve_{today_date}.png\")"
   ]
  },
  {
   "cell_type": "code",
   "execution_count": 38,
   "id": "4976e077-077f-42a6-a1ee-bad3dcab37c3",
   "metadata": {},
   "outputs": [
    {
     "data": {
      "image/png": "[encoded data removed]",
      "text/plain": [
       "<Figure size 640x480 with 1 Axes>"
      ]
     },
     "metadata": {},
     "output_type": "display_data"
    }
   ],
   "source": [
    "plt.plot(history.history['accuracy'])\n",
    "plt.plot(history.history['val_accuracy'])\n",
    "plt.title('Accuracy curve')\n",
    "plt.xlabel('Epoch')\n",
    "plt.ylabel('Accuracy')\n",
    "plt.legend(['Train','Validation'])\n",
    "plt.savefig(f\"D:\\\\Projects\\\\Jupyter_Lab\\\\Stock_market_predictor\\\\accuracy_curves\\\\accuracy_curve_{today_date}.png\")"
   ]
  },
  {
   "cell_type": "markdown",
   "id": "38293b55-6c47-4b48-b5a3-75c74bc1af4d",
   "metadata": {},
   "source": [
    "# Saving the model"
   ]
  },
  {
   "cell_type": "code",
   "execution_count": 39,
   "id": "157c761b-ce38-4265-b033-7513f96cbdc3",
   "metadata": {},
   "outputs": [],
   "source": [
    "regressor.save('D:\\\\Projects\\\\Jupyter_Lab\\\\Stock_market_predictor\\\\Stock_predictor_BSE_2025\\\\model_files\\\\stock_predictor.keras')"
   ]
  }
 ],
 "metadata": {
  "kernelspec": {
   "display_name": "Python 3 (ipykernel)",
   "language": "python",
   "name": "python3"
  },
  "language_info": {
   "codemirror_mode": {
    "name": "ipython",
    "version": 3
   },
   "file_extension": ".py",
   "mimetype": "text/x-python",
   "name": "python",
   "nbconvert_exporter": "python",
   "pygments_lexer": "ipython3",
   "version": "3.12.10"
  }
 },
 "nbformat": 4,
 "nbformat_minor": 5
}
