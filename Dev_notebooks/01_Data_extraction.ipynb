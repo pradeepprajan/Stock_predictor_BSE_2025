{
 "cells": [
  {
   "cell_type": "code",
   "execution_count": 22,
   "id": "b0855fe7-8438-45a4-9670-37575413bff9",
   "metadata": {},
   "outputs": [],
   "source": [
    "import pandas as pd\n",
    "import requests\n",
    "from datetime import datetime,date\n",
    "from dateutil.relativedelta import relativedelta"
   ]
  },
  {
   "cell_type": "code",
   "execution_count": 24,
   "id": "9312f166-f369-478e-a871-e8920932c25f",
   "metadata": {},
   "outputs": [
    {
     "data": {
      "text/plain": [
       "'2025-05-31'"
      ]
     },
     "execution_count": 24,
     "metadata": {},
     "output_type": "execute_result"
    }
   ],
   "source": [
    "(date.today()+relativedelta(days=-1)).strftime(\"%Y-%m-%d\")"
   ]
  },
  {
   "cell_type": "code",
   "execution_count": 30,
   "id": "9861ee71-154b-4a3a-b4c9-1d5902af913c",
   "metadata": {},
   "outputs": [],
   "source": [
    "# Parameters\n",
    "end_date = '2025-05-31'\n",
    "#end_date = (date.today()+relativedelta(days=-1)).strftime(\"%Y-%m-%d\")\n",
    "start_date = (datetime.strptime(end_date,\"%Y-%m-%d\") + relativedelta(years=-3)).strftime(\"%Y-%m-%d\")\n",
    "stocks = ['ASHOKLEY','CANBK','LICI','ONGC','SBIN']"
   ]
  },
  {
   "cell_type": "code",
   "execution_count": 31,
   "id": "2d08fa3a-633f-42ca-9e4d-83f1741a1257",
   "metadata": {},
   "outputs": [
    {
     "data": {
      "text/plain": [
       "'2022-05-31'"
      ]
     },
     "execution_count": 31,
     "metadata": {},
     "output_type": "execute_result"
    }
   ],
   "source": [
    "start_date"
   ]
  },
  {
   "cell_type": "code",
   "execution_count": 45,
   "id": "ba421279-965d-4fe4-9ea8-15d8215b4eba",
   "metadata": {},
   "outputs": [],
   "source": [
    "dev_data = pd.DataFrame(columns=['Date','Stock','Close'])\n",
    "for stock in stocks:\n",
    "    try:\n",
    "        url = f'https://www.alphavantage.co/query?function=TIME_SERIES_DAILY&symbol={stock}.BSE&outputsize=full&apikey=OL89MS2MIR3KD58F'\n",
    "        r = requests.get(url)\n",
    "        data = r.json()\n",
    "        dataframe1 = pd.DataFrame.from_dict(data['Time Series (Daily)'], orient='index')\n",
    "        dataframe1 = dataframe1.reset_index(names='Date')\n",
    "        dataframe1.rename(columns = {'4. close':'Close'},inplace=True)\n",
    "        dataframe1['Stock'] = stock\n",
    "        dataframe1 = dataframe1[['Date','Stock','Close']]\n",
    "        dataframe1 = dataframe1[dataframe1['Date']>start_date]\n",
    "        dev_data = pd.concat([dev_data,dataframe1],ignore_index=True)\n",
    "    except Exception as e:\n",
    "        print(e)\n",
    "dev_data.to_csv(\"Stocks_train.csv\",index=False)"
   ]
  },
  {
   "cell_type": "code",
   "execution_count": 46,
   "id": "0a0e6539-61cb-4643-b1ed-3a856a3094bf",
   "metadata": {},
   "outputs": [],
   "source": [
    "dev_data = pd.read_csv(\"Stocks_train.csv\")"
   ]
  }
 ],
 "metadata": {
  "kernelspec": {
   "display_name": "Python 3 (ipykernel)",
   "language": "python",
   "name": "python3"
  },
  "language_info": {
   "codemirror_mode": {
    "name": "ipython",
    "version": 3
   },
   "file_extension": ".py",
   "mimetype": "text/x-python",
   "name": "python",
   "nbconvert_exporter": "python",
   "pygments_lexer": "ipython3",
   "version": "3.12.10"
  }
 },
 "nbformat": 4,
 "nbformat_minor": 5
}
