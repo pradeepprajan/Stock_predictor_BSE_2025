{
 "cells": [
  {
   "cell_type": "code",
   "execution_count": 1,
   "id": "b0855fe7-8438-45a4-9670-37575413bff9",
   "metadata": {},
   "outputs": [],
   "source": [
    "import pandas as pd\n",
    "import requests\n",
    "from datetime import datetime,date\n",
    "from dateutil.relativedelta import relativedelta"
   ]
  },
  {
   "cell_type": "code",
   "execution_count": 2,
   "id": "9861ee71-154b-4a3a-b4c9-1d5902af913c",
   "metadata": {},
   "outputs": [],
   "source": [
    "# Parameters\n",
    "#end_date = '2025-05-31'\n",
    "end_date = (date.today()+relativedelta(days=-1)).strftime(\"%Y-%m-%d\")\n",
    "start_date = (datetime.strptime(end_date,\"%Y-%m-%d\") + relativedelta(years=-3)).strftime(\"%Y-%m-%d\")\n",
    "stocks = ['ASHOKLEY','CANBK','LICI','ONGC','SBIN']\n",
    "today_date = date.today().strftime(\"%Y-%m-%d\")"
   ]
  },
  {
   "cell_type": "code",
   "execution_count": 3,
   "id": "ba421279-965d-4fe4-9ea8-15d8215b4eba",
   "metadata": {
    "scrolled": true
   },
   "outputs": [],
   "source": [
    "dev_data = pd.DataFrame(columns=['Date','Stock','Close'])\n",
    "candle_stick_data = pd.DataFrame(columns=['Date','Stock','Open','High','Low','Close'])\n",
    "for stock in stocks:\n",
    "    try:\n",
    "        url = f'https://www.alphavantage.co/query?function=TIME_SERIES_DAILY&symbol={stock}.BSE&outputsize=full&apikey=OL89MS2MIR3KD58F'\n",
    "        r = requests.get(url)\n",
    "        data = r.json()\n",
    "        dataframe1 = pd.DataFrame.from_dict(data['Time Series (Daily)'], orient='index')\n",
    "        dataframe1 = dataframe1.reset_index(names='Date')\n",
    "        dataframe1.rename(columns = {'1. open':'Open','2. high':'High','3. low':'Low','4. close':'Close'},inplace=True)\n",
    "        dataframe1['Stock'] = stock\n",
    "        dataframe1 = dataframe1[dataframe1['Date']>start_date]\n",
    "        dataframe1 = dataframe1[['Date','Stock','Open','High','Low','Close']]\n",
    "        candle_stick_data = pd.concat([candle_stick_data,dataframe1],ignore_index=True)\n",
    "        dataframe1 = dataframe1[['Date','Stock','Close']]\n",
    "        dev_data = pd.concat([dev_data,dataframe1],ignore_index=True)\n",
    "    except Exception as e:\n",
    "        print(e)\n",
    "dev_data.to_csv(f\"D:\\\\Projects\\\\Jupyter_Lab\\\\Stock_market_predictor\\\\stock_prices_dataset\\\\train\\\\Stocks_train_{today_date}.csv\",index=False)\n",
    "candle_stick_data.to_csv(f\"D:\\\\Projects\\\\Jupyter_Lab\\\\Stock_market_predictor\\\\stock_prices_dataset\\\\candle_stick\\\\Stocks_data_{today_date}.csv\",index=False)"
   ]
  },
  {
   "cell_type": "code",
   "execution_count": null,
   "id": "960b1398-7ef3-4899-aa51-28b4f92d858d",
   "metadata": {},
   "outputs": [],
   "source": []
  }
 ],
 "metadata": {
  "kernelspec": {
   "display_name": "Python 3 (ipykernel)",
   "language": "python",
   "name": "python3"
  },
  "language_info": {
   "codemirror_mode": {
    "name": "ipython",
    "version": 3
   },
   "file_extension": ".py",
   "mimetype": "text/x-python",
   "name": "python",
   "nbconvert_exporter": "python",
   "pygments_lexer": "ipython3",
   "version": "3.12.10"
  }
 },
 "nbformat": 4,
 "nbformat_minor": 5
}
